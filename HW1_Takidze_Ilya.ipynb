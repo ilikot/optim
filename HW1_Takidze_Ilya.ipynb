{
 "cells": [
  {
   "cell_type": "markdown",
   "metadata": {},
   "source": [
    "# Homework 1. Такидзе Илья\n",
    "* Домашку присылать в виде `.pdf` файла на адрес `homework@merkulov.top`. \n",
    "* Дедлайн: **28 марта 22:59**.\n",
    "* Есть несколько способов конвертировать `.ipynb` в `.pdf`. Самый простой - сохранить ноутбук как `.html`, а затем распечатать это в `.pdf` файл, нажав `ctrl + P` в браузере. \n",
    "* Займитесь этим вопросом заранее, чтобы в последний момент не получить из за этого 0 баллов. \n",
    "* Все ячейки должны быть запущены, а графики построены.\n",
    "## Sequence convergence\n",
    "### Problem 1\n",
    "Определить скорость сходимости следующих последовательностей:\n",
    "\n",
    "1. $r_k = \\left\\{ (0.707)^k \\right\\}_{k=1}^\\infty$\n",
    "2. $r_k = \\left\\{ (0.707)^{2^k} \\right\\}_{k=1}^\\infty$\n",
    "3. $r_k = \\left\\{ \\dfrac{1}{k^2} \\right\\}_{k=1}^\\infty$\n",
    "4. $r_k = \\left\\{ \\dfrac{1}{k!} \\right\\}_{k=1}^\\infty$\n",
    "5. $r_k =\\begin{cases} \\frac{1}{k}, & \\mbox{if } k\\mbox{ is even} \\\\ \\frac{1}{k^2}, & \\mbox{if } k\\mbox{ is odd} \\end{cases}$\n",
    "6. $r_k =\\begin{cases} \\frac{1}{k^k}, & \\mbox{if } k\\mbox{ is even} \\\\ \\frac{1}{k^{2k}}, & \\mbox{if } k\\mbox{ is odd} \\end{cases}$"
   ]
  },
  {
   "cell_type": "markdown",
   "metadata": {},
   "source": [
    "#### РЕШЕНИЕ:\n",
    "1. линейная сходимость с коэффициентом $\\alpha = 0.707$\n",
    "2. квадратичная сходимость с коэффициентом $\\alpha = 0.707$\n",
    "3. сублинейная сходимость с коэффициентом $\\alpha \\rightarrow 1$\n",
    "4. сверхлинейная сходимость, т.к. $\\alpha \\rightarrow 0$\n",
    "5. "
   ]
  },
  {
   "cell_type": "code",
   "execution_count": 5,
   "metadata": {},
   "outputs": [
    {
     "data": {
      "image/png": "[encoded data removed]",
      "text/plain": [
       "<Figure size 432x288 with 1 Axes>"
      ]
     },
     "metadata": {
      "needs_background": "light"
     },
     "output_type": "display_data"
    }
   ],
   "source": [
    "import math\n",
    "import matplotlib.pyplot as plt\n",
    "import numpy as np\n",
    "\n",
    "\n",
    "k = np.arange(3. , 20. )\n",
    "def x(k):\n",
    "    rk = 0\n",
    "    if int(k)%2 == 0:\n",
    "        rk = 1/k**k\n",
    "    else:\n",
    "        rk = 1/k**(2*k)\n",
    "    return rk \n",
    "#def q(k):\n",
    "    #return math.log(((x(k+1) - x(k))/(x(k) - x(k-1)))/((x(k) - x(k-1))/(x(k-1) - x(k-2))))\n",
    "def q(k):\n",
    "    return x(k + 1.0)/x(k) \n",
    "qe = np.zeros(len(k))\n",
    "ki = np.zeros(len(k))\n",
    "for i in range(len(k)):\n",
    "    ki[i] = k[i]\n",
    "    qe[i] = q(k[i])\n",
    "\n",
    "plt.plot(ki, qe)\n",
    "plt.show()\n",
    "\n"
   ]
  },
  {
   "cell_type": "markdown",
   "metadata": {},
   "source": [
    "## Line search"
   ]
  },
  {
   "cell_type": "markdown",
   "metadata": {},
   "source": [
    "### Problem 2\n",
    "Рассмотрите функцию $f(x) = x \\cdot e^x + \\sin e^x, \\;\\;\\; x \\in [-20, 0]$ . Рассмотрите методы локализации решения, при которых отрезок $[a,b]$ делится на 2 части в фиксированной пропорции $t: x_t = a + t*(b-a)$ (максимум дважды на итерации - как в методе дихотомии).\n",
    "\n",
    "Проведите эксперименты при различных значениях $t \\in [0,1]$ и постройте график зависимости $N (t)$ - значения количества итераций, необходимых для достижения $\\varepsilon$ - точности от параметра $t$. \n",
    "Считать $\\varepsilon = 10^{-7}$.\n",
    "\n",
    "Обратите внимание, что в случае $t = 0.5$ данный метод точно совпадает с методом дихотомии."
   ]
  },
  {
   "cell_type": "code",
   "execution_count": 1,
   "metadata": {},
   "outputs": [
    {
     "data": {
      "image/png": "[encoded data removed]",
      "text/plain": [
       "<Figure size 432x288 with 1 Axes>"
      ]
     },
     "metadata": {
      "needs_background": "light"
     },
     "output_type": "display_data"
    }
   ],
   "source": [
    "%matplotlib inline\n",
    "import numpy as np\n",
    "from matplotlib import pyplot as plt\n",
    "\n",
    "def f_2(x):\n",
    "    return (x + np.sin(x))*np.exp(x)\n",
    "\n",
    "x = np.linspace(-20,0, 200)\n",
    "plt.plot(x, f_2(x))\n",
    "plt.title('Objective function')\n",
    "plt.xlabel(f'$x$')\n",
    "plt.ylabel(f'$f(x)$')\n",
    "plt.show()"
   ]
  },
  {
   "cell_type": "code",
   "execution_count": 26,
   "metadata": {},
   "outputs": [
    {
     "name": "stdout",
     "output_type": "stream",
     "text": [
      "0 0\n",
      "0 -0.8743578257927421\n",
      "-0.874357902467942 0\n",
      "-0.8743580302599417 0\n",
      "-0.874358243246608 0\n",
      "0 -0.8743577107799424\n",
      "0 -0.8743563796132784\n",
      "-0.8743585982243851 0\n",
      "0 -0.8743530516966183\n",
      "-0.874362295909563 0\n",
      "-0.8743777029311376 0\n",
      "0 -0.8743391853772011\n",
      "0 -0.87424289149236\n",
      "0 -0.8740021567802571\n",
      "-0.8744033813004286 0\n",
      "-0.8750720888340477 0\n",
      "-0.8761866013900798 0\n",
      "-0.8780441223167997 0\n",
      "-0.8811399905279997 0\n",
      "-0.8862997708799998 0\n",
      "-0.8948994047999997 0\n",
      "-0.9092321279999998 0\n",
      "0 -0.8734003199999998\n",
      "0 -0.7838207999999998\n",
      "0 -0.5598719999999998\n",
      "-0.9331199999999997 0\n",
      "-1.5551999999999997 0\n",
      "-2.5919999999999996 0\n",
      "-4.319999999999999 0\n",
      "-7.199999999999999 0\n",
      "-12.0 0\n",
      "0\n"
     ]
    }
   ],
   "source": [
    "import math\n",
    "t = 0.4\n",
    "a = -20.\n",
    "b = 0.\n",
    "eps = 10**(-7) #критерий остановки\n",
    "def xt(a, b, t):  #середина отрезка\n",
    "    return a + t*(b - a)\n",
    "def xl(a, b, t):  #середина левого отрезка отрезка\n",
    "    return a + t*(xt(a, b, t) - a)\n",
    "def xr(a, b, t):  #середина правого отрезка отрезка\n",
    "    return xt(a, b, t) + t*(b - xt(a, b ,t))\n",
    "def minimize(f, a, b, t):\n",
    "    a1 = 0\n",
    "    b1 = 0\n",
    "    if math.fabs(a - b) > eps:\n",
    "        if f(xl(a, b, t)) < f(xr(a, b, t)):\n",
    "            b1 = xt(a, b, t)\n",
    "            minimize(f, a, b1, t)\n",
    "        else:\n",
    "            a1 = xt(a, b, t)\n",
    "            minimize(f, a1, b, t)\n",
    "    print(a1 ,b1)\n",
    "    return 0\n",
    "        \n",
    "print(minimize(f_2, a, b, t))\n",
    "#print(f_2(-20))"
   ]
  },
  {
   "cell_type": "markdown",
   "metadata": {},
   "source": [
    "## Zero order methods"
   ]
  },
  {
   "cell_type": "markdown",
   "metadata": {},
   "source": [
    "### Problem 3\n",
    "Давайте располагать базовые станции беспроводной сети оптимально!\n",
    "Пусть у вас есть $N_{obj} = 10$ кластеров из 10 абонентов каждый. Давайте с помощью генетического алгоритма постепенно искать оптимальное количество и расположение базовых станций, чтобы минимизировать стоимость расстановки таких станций.\n",
    "\n",
    "Ниже представлен один из возможных вариантов реализации генетического алгоритма.\n",
    "\n",
    "#### Популяция\n",
    "Это список из массивов размера `[N_stations x 2]`. Каждая особь при этом представляет собой набор координат станций на плоскости. Генерация случайного\n",
    "\n",
    "#### Мутация\n",
    "Определяется функцией `mutation()`. Из всех особей выбирается `mutation_rate` часть и к `mutation_rate` части её станций прибавляется случайный Гауссов шум. \n",
    "После этого к популяции добавляется особь со случайным количеством станций со случайными координатами.\n",
    "\n",
    "#### Скрещивание\n",
    "Определяется функциями `children_creation()` и `breed()`. Двум наборам станций ставится в соответствие третяя станция, из которой взяты четные станции одного родителя и нечетные станции другого.\n",
    "\n",
    "#### Оценка стоимости особи\n",
    "Определяется функцией `evaluate_generation()`. Итоговая стоимость, соответствующая конкретной особи складывается из себестоимости построения базовых станций (каждая стоит `station_cost`) за вычетом прибыли от каждого клиента. Прибыль от каждого клиента обратна пропорциональна расстоянию до \"своей\" базовой станции. Каждый клиент присоединяется только к одной (ближайшей) базовой станции с помощью функции `find_nearest_station()`. Кроме того, прибыль от каждого абонента обратно пропорциональна числу абонентов на данной базовой станции (у каждой станции есть число подсоединенных к ней абонентов `stations_load`). Заметим так же, что, начиная с некоторой близости к абонента к базовой станции, прибыль клиента перестает расти ( в нашем алгоритме она одинакова в радиусе `0.1` от базовой станции, после чего линейно убывает).\n",
    "\n",
    "Ваша задача состоит в том, чтобы придумать любые модификации к предложенным процедурам в рамках генетического алгоритма так, чтобы итоговое качество работы алгоритма было лучше. Предложите, опишите и протестируйте идеи улучшения алгоритма."
   ]
  },
  {
   "cell_type": "code",
   "execution_count": 27,
   "metadata": {
    "scrolled": false
   },
   "outputs": [
    {
     "data": {
      "application/vnd.plotly.v1+json": {
       "config": {
        "plotlyServerURL": "https://plot.ly"
       },
       "data": [
        {
         "marker": {
          "size": 5
         },
         "mode": "markers",
         "name": "abonents",
         "type": "scatter",
         "x": [
          0.4295373501076428,
          0.34496436948026327,
          0.4674970839681508,
          0.30452181591089006,
          0.5024539902446863,
          0.5133339538356828,
          0.2534023054339517,
          0.45603029702455666,
          0.5129819438710836,
          0.27115886112133536,
          0.8349619515938955,
          0.8888602127233919,
          0.5387605656917991,
          0.7349400272661486,
          0.8782418331205923,
          0.96022766700025,
          0.8079137629711481,
          0.8684440860846949,
          0.6542682316923782,
          0.7630294066276206,
          0.7969717080780054,
          0.6088685617935818,
          0.6181121021477081,
          0.7211228289671379,
          0.7383845332614425,
          0.6675635890866165,
          0.7047030864983872,
          0.7308789351227792,
          0.6612420234114593,
          0.6707678826168268,
          0.5204170837964538,
          0.5160574725008035,
          0.4642959380689072,
          0.41104025679713685,
          0.5201619297845214,
          0.5518385674202616,
          0.2980689152679512,
          0.5196358123165987,
          0.4338229789876742,
          0.49630222177215044,
          0.10956913141531707,
          0.5007780017620912,
          0.1685657435705102,
          0.19706690123145235,
          0.40562180271329706,
          0.21641066048926677,
          0.1462643164236313,
          0.462744118866126,
          0.3623411354953946,
          0.23165388297106376,
          0.005342406566192132,
          0.021473949080724565,
          0.029446864626487684,
          0.028634489668427986,
          0.01803627532937454,
          0.011719031472907334,
          0.04582444360989425,
          0.011933415783801879,
          0.028594001949679926,
          0.033177516687337594,
          0.6984994020114769,
          0.6805047714035769,
          0.6547442783289326,
          0.7444344405394038,
          0.5370487060144875,
          0.5749361932370635,
          0.7408998843231469,
          0.7498169125048426,
          0.7988624370955602,
          0.712934227883162,
          0.3072006592357837,
          0.40369148146106776,
          0.25470275589633057,
          0.37561693100425986,
          0.3535183023851874,
          0.3266565814552872,
          0.43976577990884547,
          0.2508489321063574,
          0.41338941950476016,
          0.32237831388602795,
          0.5120570928001007,
          0.46304432862675426,
          0.5878708147963693,
          0.5233240504522254,
          0.5192441804871788,
          0.5576871028320244,
          0.5050209729111741,
          0.6185642334499257,
          0.45785182522977985,
          0.5128322493939572,
          0.24152832973491667,
          0.11343737792942848,
          0.1632320649986322,
          0.20935104953921008,
          0.20762769818514498,
          0.16639620119461276,
          0.09632355319555679,
          0.2983746989559987,
          0.14080130104026284,
          0.05905226496776078
         ],
         "xaxis": "x",
         "y": [
          0.14750412950393454,
          0.11402975970968895,
          0.16411447849915597,
          0.04655256599355743,
          0.19267803920357557,
          0.20640463724777877,
          0.033016445069417956,
          0.14277090184321392,
          0.18875621691504046,
          0.038878466951714916,
          0.1435051012766166,
          0.21670044750715997,
          -0.2081095130026009,
          0.03167087678871002,
          0.23057336151784658,
          0.2975183557067511,
          0.12122662713164065,
          0.15387430141067615,
          -0.08878417714145209,
          0.08992301731749845,
          0.36513403936932615,
          0.26172494973091315,
          0.2587528042564231,
          0.3330612527866801,
          0.3113393974661129,
          0.33988428484419125,
          0.30631929854073103,
          0.31978578074848063,
          0.29443379768221095,
          0.2770314318706527,
          0.9991931874730653,
          0.9979870379203046,
          0.9198982989875438,
          0.8421242315583954,
          1.0030440459756396,
          1.0449027488464595,
          0.6818672674705533,
          1.0023580827368535,
          0.8833968671194984,
          0.9692435116020085,
          0.7168726655294573,
          1.1470942476731678,
          0.7743037848064354,
          0.8028012768891393,
          1.049371792843665,
          0.8266721613910438,
          0.7330454347417686,
          1.1048721822508458,
          1.0018583396577723,
          0.8486175497036174,
          0.3791446667575808,
          0.45571861538870245,
          0.37963980883791226,
          0.4226515301902269,
          0.40297995407788767,
          0.3897890655664556,
          0.4696481039167837,
          0.40944977693306556,
          0.504574432653879,
          0.4594392979563972,
          0.2025691155815611,
          0.13749858305587767,
          0.18221110518427508,
          0.20933622738369473,
          0.05718902698175751,
          0.04595735207632462,
          0.30095937250758853,
          0.18945767048847384,
          0.2646486207616794,
          0.23991874686602305,
          0.7262223189454657,
          0.7940704841784255,
          0.7098745230883687,
          0.8007879338391376,
          0.8130308467825514,
          0.7468475469857001,
          0.7922560125254667,
          0.6963265727651924,
          0.8172452590379355,
          0.7580345627237937,
          -0.027320044713176478,
          0.04250922662163485,
          0.1735424026491607,
          0.06927266337692323,
          0.07160380777459134,
          0.09154687236756871,
          0.154882158760097,
          0.05746818325679361,
          -0.023407757918868732,
          0.036796401014886924,
          0.68410654327999,
          0.5434990249350781,
          0.6283119128618533,
          0.6543960041070653,
          0.6289980858310537,
          0.6217749716205523,
          0.5039371304303444,
          0.7102632041736836,
          0.5697695563013968,
          0.5080576323788102
         ],
         "yaxis": "y"
        },
        {
         "marker": {
          "size": 15
         },
         "mode": "markers",
         "name": "stations",
         "type": "scatter",
         "x": [
          0.5843057655212075,
          0.5124143702384686,
          0.9559139125892584,
          0.44013308792465017,
          0.14502565035948753,
          0.26472480995671094,
          0.49649184367960997,
          0.12456903308226452,
          0.6177976229925125,
          0.7031008193096284,
          0.6969295265794605,
          0.2699232475279534,
          0.09657227253363758,
          0.3069726423692514,
          0.7616728067368728,
          0.5394498846151617,
          0.6455079171812845,
          0.5360672423405735,
          0.5827434092476825,
          0.15316359085199396,
          0.6141937351079454,
          0.7198160331488839,
          0.3995115368096302,
          0.7991733276196986,
          0.5277732538681819,
          0.11885015290722194
         ],
         "xaxis": "x",
         "y": [
          0.9676528987433686,
          0.04110127993936992,
          0.21691621611583323,
          0.0967130786183331,
          0.539719321879231,
          0.754016247157665,
          0.062036774670485434,
          0.6210535908212633,
          0.2875514289160351,
          0.3859958181305774,
          0.2130289843594133,
          0.09417007927350324,
          0.3298482660101773,
          0.7796499999862909,
          0.06538080343946867,
          0.08096629785412013,
          0.28322203183060596,
          0.22170831747083897,
          0.03561242206339961,
          0.5773272639370481,
          1.0304840294255346,
          0.20801483469456805,
          1.1416690548780972,
          0.11219675588400385,
          0.8533855232306997,
          0.7775390044931715
         ],
         "yaxis": "y"
        },
        {
         "name": "best",
         "type": "scatter",
         "x": [
          0,
          1,
          2,
          3,
          4,
          5,
          6,
          7,
          8,
          9,
          10,
          11,
          12,
          13,
          14,
          15,
          16,
          17,
          18,
          19,
          20,
          21,
          22,
          23,
          24,
          25,
          26,
          27,
          28,
          29,
          30,
          31,
          32,
          33,
          34,
          35,
          36,
          37,
          38,
          39,
          40,
          41,
          42,
          43,
          44,
          45,
          46,
          47,
          48,
          49,
          50,
          51,
          52,
          53,
          54,
          55,
          56,
          57,
          58,
          59,
          60,
          61,
          62,
          63,
          64,
          65,
          66,
          67,
          68,
          69,
          70,
          71,
          72,
          73,
          74,
          75,
          76
         ],
         "xaxis": "x2",
         "y": [
          -48.08321040049991,
          -57.7939222422465,
          -57.7939222422465,
          -62.56446308678319,
          -88.94698614428617,
          -88.58279922879994,
          -88.9592485269973,
          -88.9592485269973,
          -98.33859431967024,
          -105.35942383799011,
          -105.35942383799011,
          -119.45762724268877,
          -123.61291889390479,
          -123.61291889390479,
          -123.61291889390479,
          -131.799997492336,
          -135.7136551335352,
          -144.37845395648733,
          -145.67879211495233,
          -145.75315205471006,
          -151.13000233442168,
          -151.13000233442168,
          -151.13837051917545,
          -156.60052792912649,
          -156.60052792912649,
          -156.60052792912649,
          -161.31125778769584,
          -162.91353069059517,
          -164.12697045785603,
          -165.53819331533472,
          -165.53819331533472,
          -165.53819331533472,
          -165.80570365292985,
          -164.0831994816323,
          -166.2673615273994,
          -166.2673615273994,
          -165.91333150206208,
          -165.91333150206208,
          -165.15208793350754,
          -165.15208793350754,
          -165.15208793350754,
          -166.27055163278985,
          -166.27055163278985,
          -166.27055163278985,
          -166.27055163278985,
          -166.27055163278985,
          -165.53217150196664,
          -165.53217150196664,
          -165.53217150196664,
          -165.53217150196664,
          -166.14733264128043,
          -166.14733264128043,
          -166.14733264128043,
          -166.14733264128043,
          -166.14733264128043,
          -164.78607189306535,
          -164.78607189306535,
          -165.46774752874683,
          -165.46774752874683,
          -166.12972004056414,
          -166.12972004056414,
          -166.12972004056414,
          -168.8946656070774,
          -168.65514814169617,
          -166.57548499000225,
          -166.578167495409,
          -166.6306377203126,
          -167.41739602087378,
          -167.41739602087378,
          -167.41739602087378,
          -167.41739602087378,
          -167.41739602087378,
          -167.41739602087378,
          -166.90554686169304,
          -166.90554686169304,
          -166.90554686169304,
          -167.15543182331865
         ],
         "yaxis": "y2"
        },
        {
         "name": "worst",
         "type": "scatter",
         "x": [
          0,
          1,
          2,
          3,
          4,
          5,
          6,
          7,
          8,
          9,
          10,
          11,
          12,
          13,
          14,
          15,
          16,
          17,
          18,
          19,
          20,
          21,
          22,
          23,
          24,
          25,
          26,
          27,
          28,
          29,
          30,
          31,
          32,
          33,
          34,
          35,
          36,
          37,
          38,
          39,
          40,
          41,
          42,
          43,
          44,
          45,
          46,
          47,
          48,
          49,
          50,
          51,
          52,
          53,
          54,
          55,
          56,
          57,
          58,
          59,
          60,
          61,
          62,
          63,
          64,
          65,
          66,
          67,
          68,
          69,
          70,
          71,
          72,
          73,
          74,
          75,
          76
         ],
         "xaxis": "x2",
         "y": [
          -10.532227110085724,
          -19.596760051419118,
          -25.75893077474929,
          -31.12904571178436,
          -36.319854403064056,
          -40.67590371009738,
          -45.728317403625,
          -51.73058256535175,
          -57.823315419015124,
          -62.823636482007565,
          -68.48951345969466,
          -75.63182614458505,
          -81.02350733853386,
          -86.58800161279677,
          -93.4107327461881,
          -97.40121813771283,
          -103.13688124419927,
          -108.7221632336663,
          -114.25104797865401,
          -117.40125621529609,
          -121.22956497183867,
          -124.66564969981668,
          -127.06519827823371,
          -129.32907378402663,
          -131.4378265512789,
          -133.10749152042132,
          -135.00013347058214,
          -136.68588546060053,
          -137.66780452708858,
          -139.01668134585924,
          -140.86666011117612,
          -141.9398457102772,
          -143.07657129776373,
          -143.39578502238538,
          -144.40703904129603,
          -144.7730149117951,
          -145.4193433586119,
          -145.93498665050257,
          -146.3452998944802,
          -146.59262251076515,
          -147.1416825309667,
          -147.1416825309667,
          -147.3478268975147,
          -147.98428219619507,
          -148.15201527635128,
          -148.48873700936008,
          -148.94119463272068,
          -149.23198048464351,
          -149.60356115546236,
          -149.9239570966372,
          -150.00325221068684,
          -149.59076037101977,
          -149.78876189924344,
          -150.73472536600238,
          -150.84045460614104,
          -150.08177112282766,
          -151.12032478534613,
          -151.45959415513883,
          -151.59999976354018,
          -151.7400648563682,
          -152.0378454708296,
          -151.7091730691695,
          -152.55843574995907,
          -152.63163342476292,
          -152.78197259797975,
          -152.78197259797975,
          -152.38626570940886,
          -152.82311386258047,
          -153.47196231953149,
          -153.442472941724,
          -153.5425221713982,
          -153.68413948008018,
          -153.84916186550612,
          -153.85966741214065,
          -154.0091122616658,
          -153.90997567699347,
          -153.90997567699347
         ],
         "yaxis": "y2"
        },
        {
         "name": "mean",
         "type": "scatter",
         "x": [
          0,
          1,
          2,
          3,
          4,
          5,
          6,
          7,
          8,
          9,
          10,
          11,
          12,
          13,
          14,
          15,
          16,
          17,
          18,
          19,
          20,
          21,
          22,
          23,
          24,
          25,
          26,
          27,
          28,
          29,
          30,
          31,
          32,
          33,
          34,
          35,
          36,
          37,
          38,
          39,
          40,
          41,
          42,
          43,
          44,
          45,
          46,
          47,
          48,
          49,
          50,
          51,
          52,
          53,
          54,
          55,
          56,
          57,
          58,
          59,
          60,
          61,
          62,
          63,
          64,
          65,
          66,
          67,
          68,
          69,
          70,
          71,
          72,
          73,
          74,
          75,
          76
         ],
         "xaxis": "x2",
         "y": [
          -20.32708468673923,
          -27.881292653994365,
          -33.028468562650055,
          -38.696650520393916,
          -44.35789888008673,
          -49.61480173223095,
          -55.54367341974879,
          -60.72314805428466,
          -66.95503370151121,
          -72.94298673439644,
          -78.62752019923497,
          -85.33678718893445,
          -91.09018730529635,
          -97.02913983817606,
          -102.0175265602808,
          -107.35050277670234,
          -112.90027699394732,
          -117.38787765686601,
          -122.12861729595787,
          -125.2799134027664,
          -128.57188080175834,
          -131.31906810321723,
          -133.43931171248457,
          -135.90122916876825,
          -138.10761843301196,
          -139.66077866578695,
          -140.9694665858562,
          -142.5965158352502,
          -143.79796638908488,
          -144.84460393167765,
          -145.89037683134535,
          -146.6885019750381,
          -147.51317563474635,
          -148.11532114690817,
          -148.91568164959946,
          -149.34279756976215,
          -149.85519020384552,
          -150.20263212033487,
          -150.65176019322004,
          -150.94421416141319,
          -151.5812956575034,
          -151.6328019380095,
          -152.12803507994852,
          -152.6776637540801,
          -152.8212126460626,
          -153.11135108739995,
          -153.3109223135755,
          -153.803495509154,
          -154.04347674818735,
          -154.30008768280825,
          -154.44414974406018,
          -154.56777393300254,
          -154.61953707749433,
          -154.79105188034376,
          -154.74501826792982,
          -154.66001239142852,
          -154.86305532578123,
          -155.18280890122708,
          -155.51308928986677,
          -155.59607354661546,
          -155.96474792620734,
          -156.19934148966604,
          -156.5148667266514,
          -156.60528658291173,
          -156.7311064287702,
          -156.7864180205341,
          -156.85477581771272,
          -157.15950131091415,
          -157.6480922652395,
          -157.6046533827119,
          -157.8341021403751,
          -157.8944466383898,
          -157.99352644709523,
          -158.30275328087427,
          -158.45653628873788,
          -158.54483588603856,
          -158.72207743198632
         ],
         "yaxis": "y2"
        }
       ],
       "layout": {
        "annotations": [
         {
          "font": {
           "size": 16
          },
          "showarrow": false,
          "text": "Topology of the best solution",
          "x": 0.225,
          "xanchor": "center",
          "xref": "paper",
          "y": 1,
          "yanchor": "bottom",
          "yref": "paper"
         },
         {
          "font": {
           "size": 16
          },
          "showarrow": false,
          "text": "Cost function",
          "x": 0.775,
          "xanchor": "center",
          "xref": "paper",
          "y": 1,
          "yanchor": "bottom",
          "yref": "paper"
         }
        ],
        "template": {
         "data": {
          "bar": [
           {
            "error_x": {
             "color": "#2a3f5f"
            },
            "error_y": {
             "color": "#2a3f5f"
            },
            "marker": {
             "line": {
              "color": "#E5ECF6",
              "width": 0.5
             }
            },
            "type": "bar"
           }
          ],
          "barpolar": [
           {
            "marker": {
             "line": {
              "color": "#E5ECF6",
              "width": 0.5
             }
            },
            "type": "barpolar"
           }
          ],
          "carpet": [
           {
            "aaxis": {
             "endlinecolor": "#2a3f5f",
             "gridcolor": "white",
             "linecolor": "white",
             "minorgridcolor": "white",
             "startlinecolor": "#2a3f5f"
            },
            "baxis": {
             "endlinecolor": "#2a3f5f",
             "gridcolor": "white",
             "linecolor": "white",
             "minorgridcolor": "white",
             "startlinecolor": "#2a3f5f"
            },
            "type": "carpet"
           }
          ],
          "choropleth": [
           {
            "colorbar": {
             "outlinewidth": 0,
             "ticks": ""
            },
            "type": "choropleth"
           }
          ],
          "contour": [
           {
            "colorbar": {
             "outlinewidth": 0,
             "ticks": ""
            },
            "colorscale": [
             [
              0,
              "#0d0887"
             ],
             [
              0.1111111111111111,
              "#46039f"
             ],
             [
              0.2222222222222222,
              "#7201a8"
             ],
             [
              0.3333333333333333,
              "#9c179e"
             ],
             [
              0.4444444444444444,
              "#bd3786"
             ],
             [
              0.5555555555555556,
              "#d8576b"
             ],
             [
              0.6666666666666666,
              "#ed7953"
             ],
             [
              0.7777777777777778,
              "#fb9f3a"
             ],
             [
              0.8888888888888888,
              "#fdca26"
             ],
             [
              1,
              "#f0f921"
             ]
            ],
            "type": "contour"
           }
          ],
          "contourcarpet": [
           {
            "colorbar": {
             "outlinewidth": 0,
             "ticks": ""
            },
            "type": "contourcarpet"
           }
          ],
          "heatmap": [
           {
            "colorbar": {
             "outlinewidth": 0,
             "ticks": ""
            },
            "colorscale": [
             [
              0,
              "#0d0887"
             ],
             [
              0.1111111111111111,
              "#46039f"
             ],
             [
              0.2222222222222222,
              "#7201a8"
             ],
             [
              0.3333333333333333,
              "#9c179e"
             ],
             [
              0.4444444444444444,
              "#bd3786"
             ],
             [
              0.5555555555555556,
              "#d8576b"
             ],
             [
              0.6666666666666666,
              "#ed7953"
             ],
             [
              0.7777777777777778,
              "#fb9f3a"
             ],
             [
              0.8888888888888888,
              "#fdca26"
             ],
             [
              1,
              "#f0f921"
             ]
            ],
            "type": "heatmap"
           }
          ],
          "heatmapgl": [
           {
            "colorbar": {
             "outlinewidth": 0,
             "ticks": ""
            },
            "colorscale": [
             [
              0,
              "#0d0887"
             ],
             [
              0.1111111111111111,
              "#46039f"
             ],
             [
              0.2222222222222222,
              "#7201a8"
             ],
             [
              0.3333333333333333,
              "#9c179e"
             ],
             [
              0.4444444444444444,
              "#bd3786"
             ],
             [
              0.5555555555555556,
              "#d8576b"
             ],
             [
              0.6666666666666666,
              "#ed7953"
             ],
             [
              0.7777777777777778,
              "#fb9f3a"
             ],
             [
              0.8888888888888888,
              "#fdca26"
             ],
             [
              1,
              "#f0f921"
             ]
            ],
            "type": "heatmapgl"
           }
          ],
          "histogram": [
           {
            "marker": {
             "colorbar": {
              "outlinewidth": 0,
              "ticks": ""
             }
            },
            "type": "histogram"
           }
          ],
          "histogram2d": [
           {
            "colorbar": {
             "outlinewidth": 0,
             "ticks": ""
            },
            "colorscale": [
             [
              0,
              "#0d0887"
             ],
             [
              0.1111111111111111,
              "#46039f"
             ],
             [
              0.2222222222222222,
              "#7201a8"
             ],
             [
              0.3333333333333333,
              "#9c179e"
             ],
             [
              0.4444444444444444,
              "#bd3786"
             ],
             [
              0.5555555555555556,
              "#d8576b"
             ],
             [
              0.6666666666666666,
              "#ed7953"
             ],
             [
              0.7777777777777778,
              "#fb9f3a"
             ],
             [
              0.8888888888888888,
              "#fdca26"
             ],
             [
              1,
              "#f0f921"
             ]
            ],
            "type": "histogram2d"
           }
          ],
          "histogram2dcontour": [
           {
            "colorbar": {
             "outlinewidth": 0,
             "ticks": ""
            },
            "colorscale": [
             [
              0,
              "#0d0887"
             ],
             [
              0.1111111111111111,
              "#46039f"
             ],
             [
              0.2222222222222222,
              "#7201a8"
             ],
             [
              0.3333333333333333,
              "#9c179e"
             ],
             [
              0.4444444444444444,
              "#bd3786"
             ],
             [
              0.5555555555555556,
              "#d8576b"
             ],
             [
              0.6666666666666666,
              "#ed7953"
             ],
             [
              0.7777777777777778,
              "#fb9f3a"
             ],
             [
              0.8888888888888888,
              "#fdca26"
             ],
             [
              1,
              "#f0f921"
             ]
            ],
            "type": "histogram2dcontour"
           }
          ],
          "mesh3d": [
           {
            "colorbar": {
             "outlinewidth": 0,
             "ticks": ""
            },
            "type": "mesh3d"
           }
          ],
          "parcoords": [
           {
            "line": {
             "colorbar": {
              "outlinewidth": 0,
              "ticks": ""
             }
            },
            "type": "parcoords"
           }
          ],
          "pie": [
           {
            "automargin": true,
            "type": "pie"
           }
          ],
          "scatter": [
           {
            "marker": {
             "colorbar": {
              "outlinewidth": 0,
              "ticks": ""
             }
            },
            "type": "scatter"
           }
          ],
          "scatter3d": [
           {
            "line": {
             "colorbar": {
              "outlinewidth": 0,
              "ticks": ""
             }
            },
            "marker": {
             "colorbar": {
              "outlinewidth": 0,
              "ticks": ""
             }
            },
            "type": "scatter3d"
           }
          ],
          "scattercarpet": [
           {
            "marker": {
             "colorbar": {
              "outlinewidth": 0,
              "ticks": ""
             }
            },
            "type": "scattercarpet"
           }
          ],
          "scattergeo": [
           {
            "marker": {
             "colorbar": {
              "outlinewidth": 0,
              "ticks": ""
             }
            },
            "type": "scattergeo"
           }
          ],
          "scattergl": [
           {
            "marker": {
             "colorbar": {
              "outlinewidth": 0,
              "ticks": ""
             }
            },
            "type": "scattergl"
           }
          ],
          "scattermapbox": [
           {
            "marker": {
             "colorbar": {
              "outlinewidth": 0,
              "ticks": ""
             }
            },
            "type": "scattermapbox"
           }
          ],
          "scatterpolar": [
           {
            "marker": {
             "colorbar": {
              "outlinewidth": 0,
              "ticks": ""
             }
            },
            "type": "scatterpolar"
           }
          ],
          "scatterpolargl": [
           {
            "marker": {
             "colorbar": {
              "outlinewidth": 0,
              "ticks": ""
             }
            },
            "type": "scatterpolargl"
           }
          ],
          "scatterternary": [
           {
            "marker": {
             "colorbar": {
              "outlinewidth": 0,
              "ticks": ""
             }
            },
            "type": "scatterternary"
           }
          ],
          "surface": [
           {
            "colorbar": {
             "outlinewidth": 0,
             "ticks": ""
            },
            "colorscale": [
             [
              0,
              "#0d0887"
             ],
             [
              0.1111111111111111,
              "#46039f"
             ],
             [
              0.2222222222222222,
              "#7201a8"
             ],
             [
              0.3333333333333333,
              "#9c179e"
             ],
             [
              0.4444444444444444,
              "#bd3786"
             ],
             [
              0.5555555555555556,
              "#d8576b"
             ],
             [
              0.6666666666666666,
              "#ed7953"
             ],
             [
              0.7777777777777778,
              "#fb9f3a"
             ],
             [
              0.8888888888888888,
              "#fdca26"
             ],
             [
              1,
              "#f0f921"
             ]
            ],
            "type": "surface"
           }
          ],
          "table": [
           {
            "cells": {
             "fill": {
              "color": "#EBF0F8"
             },
             "line": {
              "color": "white"
             }
            },
            "header": {
             "fill": {
              "color": "#C8D4E3"
             },
             "line": {
              "color": "white"
             }
            },
            "type": "table"
           }
          ]
         },
         "layout": {
          "annotationdefaults": {
           "arrowcolor": "#2a3f5f",
           "arrowhead": 0,
           "arrowwidth": 1
          },
          "coloraxis": {
           "colorbar": {
            "outlinewidth": 0,
            "ticks": ""
           }
          },
          "colorscale": {
           "diverging": [
            [
             0,
             "#8e0152"
            ],
            [
             0.1,
             "#c51b7d"
            ],
            [
             0.2,
             "#de77ae"
            ],
            [
             0.3,
             "#f1b6da"
            ],
            [
             0.4,
             "#fde0ef"
            ],
            [
             0.5,
             "#f7f7f7"
            ],
            [
             0.6,
             "#e6f5d0"
            ],
            [
             0.7,
             "#b8e186"
            ],
            [
             0.8,
             "#7fbc41"
            ],
            [
             0.9,
             "#4d9221"
            ],
            [
             1,
             "#276419"
            ]
           ],
           "sequential": [
            [
             0,
             "#0d0887"
            ],
            [
             0.1111111111111111,
             "#46039f"
            ],
            [
             0.2222222222222222,
             "#7201a8"
            ],
            [
             0.3333333333333333,
             "#9c179e"
            ],
            [
             0.4444444444444444,
             "#bd3786"
            ],
            [
             0.5555555555555556,
             "#d8576b"
            ],
            [
             0.6666666666666666,
             "#ed7953"
            ],
            [
             0.7777777777777778,
             "#fb9f3a"
            ],
            [
             0.8888888888888888,
             "#fdca26"
            ],
            [
             1,
             "#f0f921"
            ]
           ],
           "sequentialminus": [
            [
             0,
             "#0d0887"
            ],
            [
             0.1111111111111111,
             "#46039f"
            ],
            [
             0.2222222222222222,
             "#7201a8"
            ],
            [
             0.3333333333333333,
             "#9c179e"
            ],
            [
             0.4444444444444444,
             "#bd3786"
            ],
            [
             0.5555555555555556,
             "#d8576b"
            ],
            [
             0.6666666666666666,
             "#ed7953"
            ],
            [
             0.7777777777777778,
             "#fb9f3a"
            ],
            [
             0.8888888888888888,
             "#fdca26"
            ],
            [
             1,
             "#f0f921"
            ]
           ]
          },
          "colorway": [
           "#636efa",
           "#EF553B",
           "#00cc96",
           "#ab63fa",
           "#FFA15A",
           "#19d3f3",
           "#FF6692",
           "#B6E880",
           "#FF97FF",
           "#FECB52"
          ],
          "font": {
           "color": "#2a3f5f"
          },
          "geo": {
           "bgcolor": "white",
           "lakecolor": "white",
           "landcolor": "#E5ECF6",
           "showlakes": true,
           "showland": true,
           "subunitcolor": "white"
          },
          "hoverlabel": {
           "align": "left"
          },
          "hovermode": "closest",
          "mapbox": {
           "style": "light"
          },
          "paper_bgcolor": "white",
          "plot_bgcolor": "#E5ECF6",
          "polar": {
           "angularaxis": {
            "gridcolor": "white",
            "linecolor": "white",
            "ticks": ""
           },
           "bgcolor": "#E5ECF6",
           "radialaxis": {
            "gridcolor": "white",
            "linecolor": "white",
            "ticks": ""
           }
          },
          "scene": {
           "xaxis": {
            "backgroundcolor": "#E5ECF6",
            "gridcolor": "white",
            "gridwidth": 2,
            "linecolor": "white",
            "showbackground": true,
            "ticks": "",
            "zerolinecolor": "white"
           },
           "yaxis": {
            "backgroundcolor": "#E5ECF6",
            "gridcolor": "white",
            "gridwidth": 2,
            "linecolor": "white",
            "showbackground": true,
            "ticks": "",
            "zerolinecolor": "white"
           },
           "zaxis": {
            "backgroundcolor": "#E5ECF6",
            "gridcolor": "white",
            "gridwidth": 2,
            "linecolor": "white",
            "showbackground": true,
            "ticks": "",
            "zerolinecolor": "white"
           }
          },
          "shapedefaults": {
           "line": {
            "color": "#2a3f5f"
           }
          },
          "ternary": {
           "aaxis": {
            "gridcolor": "white",
            "linecolor": "white",
            "ticks": ""
           },
           "baxis": {
            "gridcolor": "white",
            "linecolor": "white",
            "ticks": ""
           },
           "bgcolor": "#E5ECF6",
           "caxis": {
            "gridcolor": "white",
            "linecolor": "white",
            "ticks": ""
           }
          },
          "title": {
           "x": 0.05
          },
          "xaxis": {
           "automargin": true,
           "gridcolor": "white",
           "linecolor": "white",
           "ticks": "",
           "title": {
            "standoff": 15
           },
           "zerolinecolor": "white",
           "zerolinewidth": 2
          },
          "yaxis": {
           "automargin": true,
           "gridcolor": "white",
           "linecolor": "white",
           "ticks": "",
           "title": {
            "standoff": 15
           },
           "zerolinecolor": "white",
           "zerolinewidth": 2
          }
         }
        },
        "xaxis": {
         "anchor": "y",
         "domain": [
          0,
          0.45
         ],
         "range": [
          0,
          1
         ],
         "title": {
          "text": "x"
         }
        },
        "xaxis2": {
         "anchor": "y2",
         "domain": [
          0.55,
          1
         ],
         "title": {
          "text": "Generation"
         }
        },
        "yaxis": {
         "anchor": "x",
         "domain": [
          0,
          1
         ],
         "range": [
          0,
          1
         ],
         "title": {
          "text": "y"
         }
        },
        "yaxis2": {
         "anchor": "x2",
         "domain": [
          0,
          1
         ],
         "title": {
          "text": "Total cost"
         }
        }
       }
      },
      "text/html": [
       "<div>\n",
       "        \n",
       "        \n",
       "            <div id=\"d18a7587-40ce-48c6-90e5-5bc3e81cd1d8\" class=\"plotly-graph-div\" style=\"height:525px; width:100%;\"></div>\n",
       "            <script type=\"text/javascript\">\n",
       "                require([\"plotly\"], function(Plotly) {\n",
       "                    window.PLOTLYENV=window.PLOTLYENV || {};\n",
       "                    \n",
       "                if (document.getElementById(\"d18a7587-40ce-48c6-90e5-5bc3e81cd1d8\")) {\n",
       "                    Plotly.newPlot(\n",
       "                        'd18a7587-40ce-48c6-90e5-5bc3e81cd1d8',\n",
       "                        [{\"marker\": {\"size\": 5}, \"mode\": \"markers\", \"name\": \"abonents\", \"type\": \"scatter\", \"x\": [0.4295373501076428, 0.34496436948026327, 0.4674970839681508, 0.30452181591089006, 0.5024539902446863, 0.5133339538356828, 0.2534023054339517, 0.45603029702455666, 0.5129819438710836, 0.27115886112133536, 0.8349619515938955, 0.8888602127233919, 0.5387605656917991, 0.7349400272661486, 0.8782418331205923, 0.96022766700025, 0.8079137629711481, 0.8684440860846949, 0.6542682316923782, 0.7630294066276206, 0.7969717080780054, 0.6088685617935818, 0.6181121021477081, 0.7211228289671379, 0.7383845332614425, 0.6675635890866165, 0.7047030864983872, 0.7308789351227792, 0.6612420234114593, 0.6707678826168268, 0.5204170837964538, 0.5160574725008035, 0.4642959380689072, 0.41104025679713685, 0.5201619297845214, 0.5518385674202616, 0.2980689152679512, 0.5196358123165987, 0.4338229789876742, 0.49630222177215044, 0.10956913141531707, 0.5007780017620912, 0.1685657435705102, 0.19706690123145235, 0.40562180271329706, 0.21641066048926677, 0.1462643164236313, 0.462744118866126, 0.3623411354953946, 0.23165388297106376, 0.005342406566192132, 0.021473949080724565, 0.029446864626487684, 0.028634489668427986, 0.01803627532937454, 0.011719031472907334, 0.04582444360989425, 0.011933415783801879, 0.028594001949679926, 0.033177516687337594, 0.6984994020114769, 0.6805047714035769, 0.6547442783289326, 0.7444344405394038, 0.5370487060144875, 0.5749361932370635, 0.7408998843231469, 0.7498169125048426, 0.7988624370955602, 0.712934227883162, 0.3072006592357837, 0.40369148146106776, 0.25470275589633057, 0.37561693100425986, 0.3535183023851874, 0.3266565814552872, 0.43976577990884547, 0.2508489321063574, 0.41338941950476016, 0.32237831388602795, 0.5120570928001007, 0.46304432862675426, 0.5878708147963693, 0.5233240504522254, 0.5192441804871788, 0.5576871028320244, 0.5050209729111741, 0.6185642334499257, 0.45785182522977985, 0.5128322493939572, 0.24152832973491667, 0.11343737792942848, 0.1632320649986322, 0.20935104953921008, 0.20762769818514498, 0.16639620119461276, 0.09632355319555679, 0.2983746989559987, 0.14080130104026284, 0.05905226496776078], \"xaxis\": \"x\", \"y\": [0.14750412950393454, 0.11402975970968895, 0.16411447849915597, 0.04655256599355743, 0.19267803920357557, 0.20640463724777877, 0.033016445069417956, 0.14277090184321392, 0.18875621691504046, 0.038878466951714916, 0.1435051012766166, 0.21670044750715997, -0.2081095130026009, 0.03167087678871002, 0.23057336151784658, 0.2975183557067511, 0.12122662713164065, 0.15387430141067615, -0.08878417714145209, 0.08992301731749845, 0.36513403936932615, 0.26172494973091315, 0.2587528042564231, 0.3330612527866801, 0.3113393974661129, 0.33988428484419125, 0.30631929854073103, 0.31978578074848063, 0.29443379768221095, 0.2770314318706527, 0.9991931874730653, 0.9979870379203046, 0.9198982989875438, 0.8421242315583954, 1.0030440459756396, 1.0449027488464595, 0.6818672674705533, 1.0023580827368535, 0.8833968671194984, 0.9692435116020085, 0.7168726655294573, 1.1470942476731678, 0.7743037848064354, 0.8028012768891393, 1.049371792843665, 0.8266721613910438, 0.7330454347417686, 1.1048721822508458, 1.0018583396577723, 0.8486175497036174, 0.3791446667575808, 0.45571861538870245, 0.37963980883791226, 0.4226515301902269, 0.40297995407788767, 0.3897890655664556, 0.4696481039167837, 0.40944977693306556, 0.504574432653879, 0.4594392979563972, 0.2025691155815611, 0.13749858305587767, 0.18221110518427508, 0.20933622738369473, 0.05718902698175751, 0.04595735207632462, 0.30095937250758853, 0.18945767048847384, 0.2646486207616794, 0.23991874686602305, 0.7262223189454657, 0.7940704841784255, 0.7098745230883687, 0.8007879338391376, 0.8130308467825514, 0.7468475469857001, 0.7922560125254667, 0.6963265727651924, 0.8172452590379355, 0.7580345627237937, -0.027320044713176478, 0.04250922662163485, 0.1735424026491607, 0.06927266337692323, 0.07160380777459134, 0.09154687236756871, 0.154882158760097, 0.05746818325679361, -0.023407757918868732, 0.036796401014886924, 0.68410654327999, 0.5434990249350781, 0.6283119128618533, 0.6543960041070653, 0.6289980858310537, 0.6217749716205523, 0.5039371304303444, 0.7102632041736836, 0.5697695563013968, 0.5080576323788102], \"yaxis\": \"y\"}, {\"marker\": {\"size\": 15}, \"mode\": \"markers\", \"name\": \"stations\", \"type\": \"scatter\", \"x\": [0.5843057655212075, 0.5124143702384686, 0.9559139125892584, 0.44013308792465017, 0.14502565035948753, 0.26472480995671094, 0.49649184367960997, 0.12456903308226452, 0.6177976229925125, 0.7031008193096284, 0.6969295265794605, 0.2699232475279534, 0.09657227253363758, 0.3069726423692514, 0.7616728067368728, 0.5394498846151617, 0.6455079171812845, 0.5360672423405735, 0.5827434092476825, 0.15316359085199396, 0.6141937351079454, 0.7198160331488839, 0.3995115368096302, 0.7991733276196986, 0.5277732538681819, 0.11885015290722194], \"xaxis\": \"x\", \"y\": [0.9676528987433686, 0.04110127993936992, 0.21691621611583323, 0.0967130786183331, 0.539719321879231, 0.754016247157665, 0.062036774670485434, 0.6210535908212633, 0.2875514289160351, 0.3859958181305774, 0.2130289843594133, 0.09417007927350324, 0.3298482660101773, 0.7796499999862909, 0.06538080343946867, 0.08096629785412013, 0.28322203183060596, 0.22170831747083897, 0.03561242206339961, 0.5773272639370481, 1.0304840294255346, 0.20801483469456805, 1.1416690548780972, 0.11219675588400385, 0.8533855232306997, 0.7775390044931715], \"yaxis\": \"y\"}, {\"name\": \"best\", \"type\": \"scatter\", \"x\": [0, 1, 2, 3, 4, 5, 6, 7, 8, 9, 10, 11, 12, 13, 14, 15, 16, 17, 18, 19, 20, 21, 22, 23, 24, 25, 26, 27, 28, 29, 30, 31, 32, 33, 34, 35, 36, 37, 38, 39, 40, 41, 42, 43, 44, 45, 46, 47, 48, 49, 50, 51, 52, 53, 54, 55, 56, 57, 58, 59, 60, 61, 62, 63, 64, 65, 66, 67, 68, 69, 70, 71, 72, 73, 74, 75, 76], \"xaxis\": \"x2\", \"y\": [-48.08321040049991, -57.7939222422465, -57.7939222422465, -62.56446308678319, -88.94698614428617, -88.58279922879994, -88.9592485269973, -88.9592485269973, -98.33859431967024, -105.35942383799011, -105.35942383799011, -119.45762724268877, -123.61291889390479, -123.61291889390479, -123.61291889390479, -131.799997492336, -135.7136551335352, -144.37845395648733, -145.67879211495233, -145.75315205471006, -151.13000233442168, -151.13000233442168, -151.13837051917545, -156.60052792912649, -156.60052792912649, -156.60052792912649, -161.31125778769584, -162.91353069059517, -164.12697045785603, -165.53819331533472, -165.53819331533472, -165.53819331533472, -165.80570365292985, -164.0831994816323, -166.2673615273994, -166.2673615273994, -165.91333150206208, -165.91333150206208, -165.15208793350754, -165.15208793350754, -165.15208793350754, -166.27055163278985, -166.27055163278985, -166.27055163278985, -166.27055163278985, -166.27055163278985, -165.53217150196664, -165.53217150196664, -165.53217150196664, -165.53217150196664, -166.14733264128043, -166.14733264128043, -166.14733264128043, -166.14733264128043, -166.14733264128043, -164.78607189306535, -164.78607189306535, -165.46774752874683, -165.46774752874683, -166.12972004056414, -166.12972004056414, -166.12972004056414, -168.8946656070774, -168.65514814169617, -166.57548499000225, -166.578167495409, -166.6306377203126, -167.41739602087378, -167.41739602087378, -167.41739602087378, -167.41739602087378, -167.41739602087378, -167.41739602087378, -166.90554686169304, -166.90554686169304, -166.90554686169304, -167.15543182331865], \"yaxis\": \"y2\"}, {\"name\": \"worst\", \"type\": \"scatter\", \"x\": [0, 1, 2, 3, 4, 5, 6, 7, 8, 9, 10, 11, 12, 13, 14, 15, 16, 17, 18, 19, 20, 21, 22, 23, 24, 25, 26, 27, 28, 29, 30, 31, 32, 33, 34, 35, 36, 37, 38, 39, 40, 41, 42, 43, 44, 45, 46, 47, 48, 49, 50, 51, 52, 53, 54, 55, 56, 57, 58, 59, 60, 61, 62, 63, 64, 65, 66, 67, 68, 69, 70, 71, 72, 73, 74, 75, 76], \"xaxis\": \"x2\", \"y\": [-10.532227110085724, -19.596760051419118, -25.75893077474929, -31.12904571178436, -36.319854403064056, -40.67590371009738, -45.728317403625, -51.73058256535175, -57.823315419015124, -62.823636482007565, -68.48951345969466, -75.63182614458505, -81.02350733853386, -86.58800161279677, -93.4107327461881, -97.40121813771283, -103.13688124419927, -108.7221632336663, -114.25104797865401, -117.40125621529609, -121.22956497183867, -124.66564969981668, -127.06519827823371, -129.32907378402663, -131.4378265512789, -133.10749152042132, -135.00013347058214, -136.68588546060053, -137.66780452708858, -139.01668134585924, -140.86666011117612, -141.9398457102772, -143.07657129776373, -143.39578502238538, -144.40703904129603, -144.7730149117951, -145.4193433586119, -145.93498665050257, -146.3452998944802, -146.59262251076515, -147.1416825309667, -147.1416825309667, -147.3478268975147, -147.98428219619507, -148.15201527635128, -148.48873700936008, -148.94119463272068, -149.23198048464351, -149.60356115546236, -149.9239570966372, -150.00325221068684, -149.59076037101977, -149.78876189924344, -150.73472536600238, -150.84045460614104, -150.08177112282766, -151.12032478534613, -151.45959415513883, -151.59999976354018, -151.7400648563682, -152.0378454708296, -151.7091730691695, -152.55843574995907, -152.63163342476292, -152.78197259797975, -152.78197259797975, -152.38626570940886, -152.82311386258047, -153.47196231953149, -153.442472941724, -153.5425221713982, -153.68413948008018, -153.84916186550612, -153.85966741214065, -154.0091122616658, -153.90997567699347, -153.90997567699347], \"yaxis\": \"y2\"}, {\"name\": \"mean\", \"type\": \"scatter\", \"x\": [0, 1, 2, 3, 4, 5, 6, 7, 8, 9, 10, 11, 12, 13, 14, 15, 16, 17, 18, 19, 20, 21, 22, 23, 24, 25, 26, 27, 28, 29, 30, 31, 32, 33, 34, 35, 36, 37, 38, 39, 40, 41, 42, 43, 44, 45, 46, 47, 48, 49, 50, 51, 52, 53, 54, 55, 56, 57, 58, 59, 60, 61, 62, 63, 64, 65, 66, 67, 68, 69, 70, 71, 72, 73, 74, 75, 76], \"xaxis\": \"x2\", \"y\": [-20.32708468673923, -27.881292653994365, -33.028468562650055, -38.696650520393916, -44.35789888008673, -49.61480173223095, -55.54367341974879, -60.72314805428466, -66.95503370151121, -72.94298673439644, -78.62752019923497, -85.33678718893445, -91.09018730529635, -97.02913983817606, -102.0175265602808, -107.35050277670234, -112.90027699394732, -117.38787765686601, -122.12861729595787, -125.2799134027664, -128.57188080175834, -131.31906810321723, -133.43931171248457, -135.90122916876825, -138.10761843301196, -139.66077866578695, -140.9694665858562, -142.5965158352502, -143.79796638908488, -144.84460393167765, -145.89037683134535, -146.6885019750381, -147.51317563474635, -148.11532114690817, -148.91568164959946, -149.34279756976215, -149.85519020384552, -150.20263212033487, -150.65176019322004, -150.94421416141319, -151.5812956575034, -151.6328019380095, -152.12803507994852, -152.6776637540801, -152.8212126460626, -153.11135108739995, -153.3109223135755, -153.803495509154, -154.04347674818735, -154.30008768280825, -154.44414974406018, -154.56777393300254, -154.61953707749433, -154.79105188034376, -154.74501826792982, -154.66001239142852, -154.86305532578123, -155.18280890122708, -155.51308928986677, -155.59607354661546, -155.96474792620734, -156.19934148966604, -156.5148667266514, -156.60528658291173, -156.7311064287702, -156.7864180205341, -156.85477581771272, -157.15950131091415, -157.6480922652395, -157.6046533827119, -157.8341021403751, -157.8944466383898, -157.99352644709523, -158.30275328087427, -158.45653628873788, -158.54483588603856, -158.72207743198632], \"yaxis\": \"y2\"}],\n",
       "                        {\"annotations\": [{\"font\": {\"size\": 16}, \"showarrow\": false, \"text\": \"Topology of the best solution\", \"x\": 0.225, \"xanchor\": \"center\", \"xref\": \"paper\", \"y\": 1.0, \"yanchor\": \"bottom\", \"yref\": \"paper\"}, {\"font\": {\"size\": 16}, \"showarrow\": false, \"text\": \"Cost function\", \"x\": 0.775, \"xanchor\": \"center\", \"xref\": \"paper\", \"y\": 1.0, \"yanchor\": \"bottom\", \"yref\": \"paper\"}], \"template\": {\"data\": {\"bar\": [{\"error_x\": {\"color\": \"#2a3f5f\"}, \"error_y\": {\"color\": \"#2a3f5f\"}, \"marker\": {\"line\": {\"color\": \"#E5ECF6\", \"width\": 0.5}}, \"type\": \"bar\"}], \"barpolar\": [{\"marker\": {\"line\": {\"color\": \"#E5ECF6\", \"width\": 0.5}}, \"type\": \"barpolar\"}], \"carpet\": [{\"aaxis\": {\"endlinecolor\": \"#2a3f5f\", \"gridcolor\": \"white\", \"linecolor\": \"white\", \"minorgridcolor\": \"white\", \"startlinecolor\": \"#2a3f5f\"}, \"baxis\": {\"endlinecolor\": \"#2a3f5f\", \"gridcolor\": \"white\", \"linecolor\": \"white\", \"minorgridcolor\": \"white\", \"startlinecolor\": \"#2a3f5f\"}, \"type\": \"carpet\"}], \"choropleth\": [{\"colorbar\": {\"outlinewidth\": 0, \"ticks\": \"\"}, \"type\": \"choropleth\"}], \"contour\": [{\"colorbar\": {\"outlinewidth\": 0, \"ticks\": \"\"}, \"colorscale\": [[0.0, \"#0d0887\"], [0.1111111111111111, \"#46039f\"], [0.2222222222222222, \"#7201a8\"], [0.3333333333333333, \"#9c179e\"], [0.4444444444444444, \"#bd3786\"], [0.5555555555555556, \"#d8576b\"], [0.6666666666666666, \"#ed7953\"], [0.7777777777777778, \"#fb9f3a\"], [0.8888888888888888, \"#fdca26\"], [1.0, \"#f0f921\"]], \"type\": \"contour\"}], \"contourcarpet\": [{\"colorbar\": {\"outlinewidth\": 0, \"ticks\": \"\"}, \"type\": \"contourcarpet\"}], \"heatmap\": [{\"colorbar\": {\"outlinewidth\": 0, \"ticks\": \"\"}, \"colorscale\": [[0.0, \"#0d0887\"], [0.1111111111111111, \"#46039f\"], [0.2222222222222222, \"#7201a8\"], [0.3333333333333333, \"#9c179e\"], [0.4444444444444444, \"#bd3786\"], [0.5555555555555556, \"#d8576b\"], [0.6666666666666666, \"#ed7953\"], [0.7777777777777778, \"#fb9f3a\"], [0.8888888888888888, \"#fdca26\"], [1.0, \"#f0f921\"]], \"type\": \"heatmap\"}], \"heatmapgl\": [{\"colorbar\": {\"outlinewidth\": 0, \"ticks\": \"\"}, \"colorscale\": [[0.0, \"#0d0887\"], [0.1111111111111111, \"#46039f\"], [0.2222222222222222, \"#7201a8\"], [0.3333333333333333, \"#9c179e\"], [0.4444444444444444, \"#bd3786\"], [0.5555555555555556, \"#d8576b\"], [0.6666666666666666, \"#ed7953\"], [0.7777777777777778, \"#fb9f3a\"], [0.8888888888888888, \"#fdca26\"], [1.0, \"#f0f921\"]], \"type\": \"heatmapgl\"}], \"histogram\": [{\"marker\": {\"colorbar\": {\"outlinewidth\": 0, \"ticks\": \"\"}}, \"type\": \"histogram\"}], \"histogram2d\": [{\"colorbar\": {\"outlinewidth\": 0, \"ticks\": \"\"}, \"colorscale\": [[0.0, \"#0d0887\"], [0.1111111111111111, \"#46039f\"], [0.2222222222222222, \"#7201a8\"], [0.3333333333333333, \"#9c179e\"], [0.4444444444444444, \"#bd3786\"], [0.5555555555555556, \"#d8576b\"], [0.6666666666666666, \"#ed7953\"], [0.7777777777777778, \"#fb9f3a\"], [0.8888888888888888, \"#fdca26\"], [1.0, \"#f0f921\"]], \"type\": \"histogram2d\"}], \"histogram2dcontour\": [{\"colorbar\": {\"outlinewidth\": 0, \"ticks\": \"\"}, \"colorscale\": [[0.0, \"#0d0887\"], [0.1111111111111111, \"#46039f\"], [0.2222222222222222, \"#7201a8\"], [0.3333333333333333, \"#9c179e\"], [0.4444444444444444, \"#bd3786\"], [0.5555555555555556, \"#d8576b\"], [0.6666666666666666, \"#ed7953\"], [0.7777777777777778, \"#fb9f3a\"], [0.8888888888888888, \"#fdca26\"], [1.0, \"#f0f921\"]], \"type\": \"histogram2dcontour\"}], \"mesh3d\": [{\"colorbar\": {\"outlinewidth\": 0, \"ticks\": \"\"}, \"type\": \"mesh3d\"}], \"parcoords\": [{\"line\": {\"colorbar\": {\"outlinewidth\": 0, \"ticks\": \"\"}}, \"type\": \"parcoords\"}], \"pie\": [{\"automargin\": true, \"type\": \"pie\"}], \"scatter\": [{\"marker\": {\"colorbar\": {\"outlinewidth\": 0, \"ticks\": \"\"}}, \"type\": \"scatter\"}], \"scatter3d\": [{\"line\": {\"colorbar\": {\"outlinewidth\": 0, \"ticks\": \"\"}}, \"marker\": {\"colorbar\": {\"outlinewidth\": 0, \"ticks\": \"\"}}, \"type\": \"scatter3d\"}], \"scattercarpet\": [{\"marker\": {\"colorbar\": {\"outlinewidth\": 0, \"ticks\": \"\"}}, \"type\": \"scattercarpet\"}], \"scattergeo\": [{\"marker\": {\"colorbar\": {\"outlinewidth\": 0, \"ticks\": \"\"}}, \"type\": \"scattergeo\"}], \"scattergl\": [{\"marker\": {\"colorbar\": {\"outlinewidth\": 0, \"ticks\": \"\"}}, \"type\": \"scattergl\"}], \"scattermapbox\": [{\"marker\": {\"colorbar\": {\"outlinewidth\": 0, \"ticks\": \"\"}}, \"type\": \"scattermapbox\"}], \"scatterpolar\": [{\"marker\": {\"colorbar\": {\"outlinewidth\": 0, \"ticks\": \"\"}}, \"type\": \"scatterpolar\"}], \"scatterpolargl\": [{\"marker\": {\"colorbar\": {\"outlinewidth\": 0, \"ticks\": \"\"}}, \"type\": \"scatterpolargl\"}], \"scatterternary\": [{\"marker\": {\"colorbar\": {\"outlinewidth\": 0, \"ticks\": \"\"}}, \"type\": \"scatterternary\"}], \"surface\": [{\"colorbar\": {\"outlinewidth\": 0, \"ticks\": \"\"}, \"colorscale\": [[0.0, \"#0d0887\"], [0.1111111111111111, \"#46039f\"], [0.2222222222222222, \"#7201a8\"], [0.3333333333333333, \"#9c179e\"], [0.4444444444444444, \"#bd3786\"], [0.5555555555555556, \"#d8576b\"], [0.6666666666666666, \"#ed7953\"], [0.7777777777777778, \"#fb9f3a\"], [0.8888888888888888, \"#fdca26\"], [1.0, \"#f0f921\"]], \"type\": \"surface\"}], \"table\": [{\"cells\": {\"fill\": {\"color\": \"#EBF0F8\"}, \"line\": {\"color\": \"white\"}}, \"header\": {\"fill\": {\"color\": \"#C8D4E3\"}, \"line\": {\"color\": \"white\"}}, \"type\": \"table\"}]}, \"layout\": {\"annotationdefaults\": {\"arrowcolor\": \"#2a3f5f\", \"arrowhead\": 0, \"arrowwidth\": 1}, \"coloraxis\": {\"colorbar\": {\"outlinewidth\": 0, \"ticks\": \"\"}}, \"colorscale\": {\"diverging\": [[0, \"#8e0152\"], [0.1, \"#c51b7d\"], [0.2, \"#de77ae\"], [0.3, \"#f1b6da\"], [0.4, \"#fde0ef\"], [0.5, \"#f7f7f7\"], [0.6, \"#e6f5d0\"], [0.7, \"#b8e186\"], [0.8, \"#7fbc41\"], [0.9, \"#4d9221\"], [1, \"#276419\"]], \"sequential\": [[0.0, \"#0d0887\"], [0.1111111111111111, \"#46039f\"], [0.2222222222222222, \"#7201a8\"], [0.3333333333333333, \"#9c179e\"], [0.4444444444444444, \"#bd3786\"], [0.5555555555555556, \"#d8576b\"], [0.6666666666666666, \"#ed7953\"], [0.7777777777777778, \"#fb9f3a\"], [0.8888888888888888, \"#fdca26\"], [1.0, \"#f0f921\"]], \"sequentialminus\": [[0.0, \"#0d0887\"], [0.1111111111111111, \"#46039f\"], [0.2222222222222222, \"#7201a8\"], [0.3333333333333333, \"#9c179e\"], [0.4444444444444444, \"#bd3786\"], [0.5555555555555556, \"#d8576b\"], [0.6666666666666666, \"#ed7953\"], [0.7777777777777778, \"#fb9f3a\"], [0.8888888888888888, \"#fdca26\"], [1.0, \"#f0f921\"]]}, \"colorway\": [\"#636efa\", \"#EF553B\", \"#00cc96\", \"#ab63fa\", \"#FFA15A\", \"#19d3f3\", \"#FF6692\", \"#B6E880\", \"#FF97FF\", \"#FECB52\"], \"font\": {\"color\": \"#2a3f5f\"}, \"geo\": {\"bgcolor\": \"white\", \"lakecolor\": \"white\", \"landcolor\": \"#E5ECF6\", \"showlakes\": true, \"showland\": true, \"subunitcolor\": \"white\"}, \"hoverlabel\": {\"align\": \"left\"}, \"hovermode\": \"closest\", \"mapbox\": {\"style\": \"light\"}, \"paper_bgcolor\": \"white\", \"plot_bgcolor\": \"#E5ECF6\", \"polar\": {\"angularaxis\": {\"gridcolor\": \"white\", \"linecolor\": \"white\", \"ticks\": \"\"}, \"bgcolor\": \"#E5ECF6\", \"radialaxis\": {\"gridcolor\": \"white\", \"linecolor\": \"white\", \"ticks\": \"\"}}, \"scene\": {\"xaxis\": {\"backgroundcolor\": \"#E5ECF6\", \"gridcolor\": \"white\", \"gridwidth\": 2, \"linecolor\": \"white\", \"showbackground\": true, \"ticks\": \"\", \"zerolinecolor\": \"white\"}, \"yaxis\": {\"backgroundcolor\": \"#E5ECF6\", \"gridcolor\": \"white\", \"gridwidth\": 2, \"linecolor\": \"white\", \"showbackground\": true, \"ticks\": \"\", \"zerolinecolor\": \"white\"}, \"zaxis\": {\"backgroundcolor\": \"#E5ECF6\", \"gridcolor\": \"white\", \"gridwidth\": 2, \"linecolor\": \"white\", \"showbackground\": true, \"ticks\": \"\", \"zerolinecolor\": \"white\"}}, \"shapedefaults\": {\"line\": {\"color\": \"#2a3f5f\"}}, \"ternary\": {\"aaxis\": {\"gridcolor\": \"white\", \"linecolor\": \"white\", \"ticks\": \"\"}, \"baxis\": {\"gridcolor\": \"white\", \"linecolor\": \"white\", \"ticks\": \"\"}, \"bgcolor\": \"#E5ECF6\", \"caxis\": {\"gridcolor\": \"white\", \"linecolor\": \"white\", \"ticks\": \"\"}}, \"title\": {\"x\": 0.05}, \"xaxis\": {\"automargin\": true, \"gridcolor\": \"white\", \"linecolor\": \"white\", \"ticks\": \"\", \"title\": {\"standoff\": 15}, \"zerolinecolor\": \"white\", \"zerolinewidth\": 2}, \"yaxis\": {\"automargin\": true, \"gridcolor\": \"white\", \"linecolor\": \"white\", \"ticks\": \"\", \"title\": {\"standoff\": 15}, \"zerolinecolor\": \"white\", \"zerolinewidth\": 2}}}, \"xaxis\": {\"anchor\": \"y\", \"domain\": [0.0, 0.45], \"range\": [0, 1], \"title\": {\"text\": \"x\"}}, \"xaxis2\": {\"anchor\": \"y2\", \"domain\": [0.55, 1.0], \"title\": {\"text\": \"Generation\"}}, \"yaxis\": {\"anchor\": \"x\", \"domain\": [0.0, 1.0], \"range\": [0, 1], \"title\": {\"text\": \"y\"}}, \"yaxis2\": {\"anchor\": \"x2\", \"domain\": [0.0, 1.0], \"title\": {\"text\": \"Total cost\"}}},\n",
       "                        {\"responsive\": true}\n",
       "                    ).then(function(){\n",
       "                            \n",
       "var gd = document.getElementById('d18a7587-40ce-48c6-90e5-5bc3e81cd1d8');\n",
       "var x = new MutationObserver(function (mutations, observer) {{\n",
       "        var display = window.getComputedStyle(gd).display;\n",
       "        if (!display || display === 'none') {{\n",
       "            console.log([gd, 'removed!']);\n",
       "            Plotly.purge(gd);\n",
       "            observer.disconnect();\n",
       "        }}\n",
       "}});\n",
       "\n",
       "// Listen for the removal of the full notebook cells\n",
       "var notebookContainer = gd.closest('#notebook-container');\n",
       "if (notebookContainer) {{\n",
       "    x.observe(notebookContainer, {childList: true});\n",
       "}}\n",
       "\n",
       "// Listen for the clearing of the current output cell\n",
       "var outputEl = gd.closest('.output');\n",
       "if (outputEl) {{\n",
       "    x.observe(outputEl, {childList: true});\n",
       "}}\n",
       "\n",
       "                        })\n",
       "                };\n",
       "                });\n",
       "            </script>\n",
       "        </div>"
      ]
     },
     "metadata": {},
     "output_type": "display_data"
    },
    {
     "ename": "KeyboardInterrupt",
     "evalue": "",
     "output_type": "error",
     "traceback": [
      "\u001b[0;31m---------------------------------------------------------------------------\u001b[0m",
      "\u001b[0;31mKeyboardInterrupt\u001b[0m                         Traceback (most recent call last)",
      "\u001b[0;32m<ipython-input-27-2d6ef562ff50>\u001b[0m in \u001b[0;36m<module>\u001b[0;34m\u001b[0m\n\u001b[1;32m    165\u001b[0m \u001b[0;34m\u001b[0m\u001b[0m\n\u001b[1;32m    166\u001b[0m \u001b[0;34m\u001b[0m\u001b[0m\n\u001b[0;32m--> 167\u001b[0;31m \u001b[0mcosts_evolution\u001b[0m\u001b[0;34m,\u001b[0m \u001b[0mabonents\u001b[0m\u001b[0;34m,\u001b[0m \u001b[0mbest_creatures\u001b[0m \u001b[0;34m=\u001b[0m \u001b[0mlet_eat_bee\u001b[0m\u001b[0;34m(\u001b[0m\u001b[0;36m200\u001b[0m\u001b[0;34m,\u001b[0m \u001b[0;36m200\u001b[0m\u001b[0;34m)\u001b[0m\u001b[0;34m\u001b[0m\u001b[0;34m\u001b[0m\u001b[0m\n\u001b[0m",
      "\u001b[0;32m<ipython-input-27-2d6ef562ff50>\u001b[0m in \u001b[0;36mlet_eat_bee\u001b[0;34m(N_creatures, N_generations, N_obj, N_abon_per_cluster)\u001b[0m\n\u001b[1;32m    115\u001b[0m         \u001b[0mpopulation\u001b[0m                \u001b[0;34m=\u001b[0m \u001b[0mmutation\u001b[0m\u001b[0;34m(\u001b[0m\u001b[0mpopulation\u001b[0m\u001b[0;34m)\u001b[0m\u001b[0;34m\u001b[0m\u001b[0;34m\u001b[0m\u001b[0m\n\u001b[1;32m    116\u001b[0m         \u001b[0mpopulation\u001b[0m                \u001b[0;34m=\u001b[0m \u001b[0mbreed\u001b[0m\u001b[0;34m(\u001b[0m\u001b[0mpopulation\u001b[0m\u001b[0;34m)\u001b[0m\u001b[0;34m\u001b[0m\u001b[0;34m\u001b[0m\u001b[0m\n\u001b[0;32m--> 117\u001b[0;31m         \u001b[0mpopulation\u001b[0m\u001b[0;34m,\u001b[0m \u001b[0mbest_creature\u001b[0m \u001b[0;34m=\u001b[0m \u001b[0mselection\u001b[0m\u001b[0;34m(\u001b[0m\u001b[0mabonents\u001b[0m\u001b[0;34m,\u001b[0m \u001b[0mpopulation\u001b[0m\u001b[0;34m,\u001b[0m \u001b[0mN_creatures\u001b[0m\u001b[0;34m)\u001b[0m\u001b[0;34m\u001b[0m\u001b[0;34m\u001b[0m\u001b[0m\n\u001b[0m\u001b[1;32m    118\u001b[0m         \u001b[0mbest_creatures\u001b[0m\u001b[0;34m.\u001b[0m\u001b[0mappend\u001b[0m\u001b[0;34m(\u001b[0m\u001b[0mbest_creature\u001b[0m\u001b[0;34m)\u001b[0m\u001b[0;34m\u001b[0m\u001b[0;34m\u001b[0m\u001b[0m\n\u001b[1;32m    119\u001b[0m \u001b[0;34m\u001b[0m\u001b[0m\n",
      "\u001b[0;32m<ipython-input-27-2d6ef562ff50>\u001b[0m in \u001b[0;36mselection\u001b[0;34m(abonents, population, offsprings)\u001b[0m\n\u001b[1;32m    101\u001b[0m \u001b[0;34m\u001b[0m\u001b[0m\n\u001b[1;32m    102\u001b[0m \u001b[0;32mdef\u001b[0m \u001b[0mselection\u001b[0m\u001b[0;34m(\u001b[0m\u001b[0mabonents\u001b[0m\u001b[0;34m,\u001b[0m \u001b[0mpopulation\u001b[0m\u001b[0;34m,\u001b[0m \u001b[0moffsprings\u001b[0m \u001b[0;34m=\u001b[0m \u001b[0;36m10\u001b[0m\u001b[0;34m)\u001b[0m\u001b[0;34m:\u001b[0m\u001b[0;34m\u001b[0m\u001b[0;34m\u001b[0m\u001b[0m\n\u001b[0;32m--> 103\u001b[0;31m     \u001b[0mscores\u001b[0m \u001b[0;34m=\u001b[0m \u001b[0mevaluate_generation\u001b[0m\u001b[0;34m(\u001b[0m\u001b[0mabonents\u001b[0m\u001b[0;34m,\u001b[0m \u001b[0mpopulation\u001b[0m\u001b[0;34m)\u001b[0m\u001b[0;34m\u001b[0m\u001b[0;34m\u001b[0m\u001b[0m\n\u001b[0m\u001b[1;32m    104\u001b[0m     \u001b[0mbest\u001b[0m \u001b[0;34m=\u001b[0m \u001b[0mnp\u001b[0m\u001b[0;34m.\u001b[0m\u001b[0marray\u001b[0m\u001b[0;34m(\u001b[0m\u001b[0mscores\u001b[0m\u001b[0;34m)\u001b[0m\u001b[0;34m.\u001b[0m\u001b[0margsort\u001b[0m\u001b[0;34m(\u001b[0m\u001b[0;34m)\u001b[0m\u001b[0;34m[\u001b[0m\u001b[0;34m:\u001b[0m\u001b[0moffsprings\u001b[0m\u001b[0;34m]\u001b[0m\u001b[0;34m.\u001b[0m\u001b[0mtolist\u001b[0m\u001b[0;34m(\u001b[0m\u001b[0;34m)\u001b[0m\u001b[0;34m\u001b[0m\u001b[0;34m\u001b[0m\u001b[0m\n\u001b[1;32m    105\u001b[0m     \u001b[0;32mreturn\u001b[0m \u001b[0;34m[\u001b[0m\u001b[0mpopulation\u001b[0m\u001b[0;34m[\u001b[0m\u001b[0mi_b\u001b[0m\u001b[0;34m]\u001b[0m \u001b[0;32mfor\u001b[0m \u001b[0mi_b\u001b[0m \u001b[0;32min\u001b[0m \u001b[0mbest\u001b[0m\u001b[0;34m]\u001b[0m\u001b[0;34m,\u001b[0m \u001b[0mpopulation\u001b[0m\u001b[0;34m[\u001b[0m\u001b[0mbest\u001b[0m\u001b[0;34m[\u001b[0m\u001b[0;36m0\u001b[0m\u001b[0;34m]\u001b[0m\u001b[0;34m]\u001b[0m\u001b[0;34m\u001b[0m\u001b[0;34m\u001b[0m\u001b[0m\n",
      "\u001b[0;32m<ipython-input-27-2d6ef562ff50>\u001b[0m in \u001b[0;36mevaluate_generation\u001b[0;34m(abonents, population, station_cost, abonent_profit_base)\u001b[0m\n\u001b[1;32m     55\u001b[0m         \u001b[0mstations_assignment\u001b[0m \u001b[0;34m=\u001b[0m \u001b[0mfind_nearest_station\u001b[0m\u001b[0;34m(\u001b[0m\u001b[0mdist_matrix\u001b[0m\u001b[0;34m)\u001b[0m\u001b[0;34m\u001b[0m\u001b[0;34m\u001b[0m\u001b[0m\n\u001b[1;32m     56\u001b[0m         \u001b[0mstations_load\u001b[0m       \u001b[0;34m=\u001b[0m \u001b[0mnp\u001b[0m\u001b[0;34m.\u001b[0m\u001b[0mones\u001b[0m\u001b[0;34m(\u001b[0m\u001b[0mN_stations\u001b[0m\u001b[0;34m)\u001b[0m\u001b[0;34m\u001b[0m\u001b[0;34m\u001b[0m\u001b[0m\n\u001b[0;32m---> 57\u001b[0;31m         \u001b[0mstations_load\u001b[0m       \u001b[0;34m=\u001b[0m \u001b[0mnp\u001b[0m\u001b[0;34m.\u001b[0m\u001b[0marray\u001b[0m\u001b[0;34m(\u001b[0m\u001b[0;34m[\u001b[0m\u001b[0;36m1\u001b[0m\u001b[0;34m/\u001b[0m\u001b[0;34m(\u001b[0m\u001b[0msum\u001b[0m\u001b[0;34m(\u001b[0m\u001b[0mstations_assignment\u001b[0m \u001b[0;34m==\u001b[0m \u001b[0mi_st\u001b[0m\u001b[0;34m)\u001b[0m\u001b[0;34m+\u001b[0m\u001b[0;36m1\u001b[0m\u001b[0;34m)\u001b[0m \u001b[0;32mfor\u001b[0m \u001b[0mi_st\u001b[0m\u001b[0;34m,\u001b[0m \u001b[0mst\u001b[0m \u001b[0;32min\u001b[0m \u001b[0menumerate\u001b[0m\u001b[0;34m(\u001b[0m\u001b[0mstations_load\u001b[0m\u001b[0;34m)\u001b[0m\u001b[0;34m]\u001b[0m\u001b[0;34m)\u001b[0m\u001b[0;34m\u001b[0m\u001b[0;34m\u001b[0m\u001b[0m\n\u001b[0m\u001b[1;32m     58\u001b[0m \u001b[0;34m\u001b[0m\u001b[0m\n\u001b[1;32m     59\u001b[0m         \u001b[0;32mfor\u001b[0m \u001b[0mi_ab\u001b[0m\u001b[0;34m,\u001b[0m \u001b[0mabonent\u001b[0m \u001b[0;32min\u001b[0m \u001b[0menumerate\u001b[0m\u001b[0;34m(\u001b[0m\u001b[0mabonents\u001b[0m\u001b[0;34m)\u001b[0m\u001b[0;34m:\u001b[0m\u001b[0;34m\u001b[0m\u001b[0;34m\u001b[0m\u001b[0m\n",
      "\u001b[0;32m<ipython-input-27-2d6ef562ff50>\u001b[0m in \u001b[0;36m<listcomp>\u001b[0;34m(.0)\u001b[0m\n\u001b[1;32m     55\u001b[0m         \u001b[0mstations_assignment\u001b[0m \u001b[0;34m=\u001b[0m \u001b[0mfind_nearest_station\u001b[0m\u001b[0;34m(\u001b[0m\u001b[0mdist_matrix\u001b[0m\u001b[0;34m)\u001b[0m\u001b[0;34m\u001b[0m\u001b[0;34m\u001b[0m\u001b[0m\n\u001b[1;32m     56\u001b[0m         \u001b[0mstations_load\u001b[0m       \u001b[0;34m=\u001b[0m \u001b[0mnp\u001b[0m\u001b[0;34m.\u001b[0m\u001b[0mones\u001b[0m\u001b[0;34m(\u001b[0m\u001b[0mN_stations\u001b[0m\u001b[0;34m)\u001b[0m\u001b[0;34m\u001b[0m\u001b[0;34m\u001b[0m\u001b[0m\n\u001b[0;32m---> 57\u001b[0;31m         \u001b[0mstations_load\u001b[0m       \u001b[0;34m=\u001b[0m \u001b[0mnp\u001b[0m\u001b[0;34m.\u001b[0m\u001b[0marray\u001b[0m\u001b[0;34m(\u001b[0m\u001b[0;34m[\u001b[0m\u001b[0;36m1\u001b[0m\u001b[0;34m/\u001b[0m\u001b[0;34m(\u001b[0m\u001b[0msum\u001b[0m\u001b[0;34m(\u001b[0m\u001b[0mstations_assignment\u001b[0m \u001b[0;34m==\u001b[0m \u001b[0mi_st\u001b[0m\u001b[0;34m)\u001b[0m\u001b[0;34m+\u001b[0m\u001b[0;36m1\u001b[0m\u001b[0;34m)\u001b[0m \u001b[0;32mfor\u001b[0m \u001b[0mi_st\u001b[0m\u001b[0;34m,\u001b[0m \u001b[0mst\u001b[0m \u001b[0;32min\u001b[0m \u001b[0menumerate\u001b[0m\u001b[0;34m(\u001b[0m\u001b[0mstations_load\u001b[0m\u001b[0;34m)\u001b[0m\u001b[0;34m]\u001b[0m\u001b[0;34m)\u001b[0m\u001b[0;34m\u001b[0m\u001b[0;34m\u001b[0m\u001b[0m\n\u001b[0m\u001b[1;32m     58\u001b[0m \u001b[0;34m\u001b[0m\u001b[0m\n\u001b[1;32m     59\u001b[0m         \u001b[0;32mfor\u001b[0m \u001b[0mi_ab\u001b[0m\u001b[0;34m,\u001b[0m \u001b[0mabonent\u001b[0m \u001b[0;32min\u001b[0m \u001b[0menumerate\u001b[0m\u001b[0;34m(\u001b[0m\u001b[0mabonents\u001b[0m\u001b[0;34m)\u001b[0m\u001b[0;34m:\u001b[0m\u001b[0;34m\u001b[0m\u001b[0;34m\u001b[0m\u001b[0m\n",
      "\u001b[0;31mKeyboardInterrupt\u001b[0m: "
     ]
    }
   ],
   "source": [
    "%matplotlib notebook\n",
    "\n",
    "import numpy as np\n",
    "from scipy.spatial.distance import cdist\n",
    "from random import shuffle, sample\n",
    "from copy import deepcopy\n",
    "import random\n",
    "from plotly.subplots import make_subplots\n",
    "import plotly.graph_objects as go\n",
    "from IPython.display import clear_output\n",
    "import matplotlib.pyplot as plt\n",
    "\n",
    "def generate_problem(N_obj, N_abon_per_cluster):\n",
    "    abonents = np.zeros((N_obj*N_abon_per_cluster,2))\n",
    "    for i_obj in range(N_obj):\n",
    "        center = np.random.random(2)\n",
    "        cov    = np.random.random((2,2))*0.1\n",
    "        cov    = cov @ cov.T\n",
    "        xs, ys = np.random.multivariate_normal(center, cov, N_abon_per_cluster).T\n",
    "        abonents[i_obj*N_abon_per_cluster:(i_obj+1)*N_abon_per_cluster, 0] = xs\n",
    "        abonents[i_obj*N_abon_per_cluster:(i_obj+1)*N_abon_per_cluster, 1] = ys\n",
    "    return abonents\n",
    "\n",
    "def plot_problem(abonents):\n",
    "    plt.figure(figsize=(10,6))\n",
    "    plt.plot(abonents[:,0], abonents[:,1], 'go')\n",
    "    plt.title('The village')\n",
    "#     plt.savefig('bs_problem.svg')\n",
    "    plt.show()\n",
    "    \n",
    "def random_solution(abonents, N_solutions = 100):\n",
    "    x_min, x_max = abonents[:,0].min(), abonents[:,0].max()\n",
    "    y_min, y_max = abonents[:,1].min(), abonents[:,1].max()\n",
    "    population = []\n",
    "    \n",
    "    for i_sol in range(N_solutions):\n",
    "        N_stations = int(np.random.random(1)[0]*10)+1\n",
    "        stations = np.zeros((N_stations,2))\n",
    "        stations[:,0], stations[:,1] = np.random.random(N_stations)*(x_max - x_min), np.random.random(N_stations)*(y_max - y_min)\n",
    "        population.append(stations)\n",
    "    return population\n",
    "    \n",
    "def find_nearest_station(dist_matrix):\n",
    "    return np.argmin(dist_matrix, axis=1)\n",
    "\n",
    "def pairwise_distance(abonents, stations):\n",
    "    return cdist(abonents, stations)\n",
    "    \n",
    "def evaluate_generation(abonents, population, station_cost = 1, abonent_profit_base = 1):  \n",
    "    costs = []\n",
    "    for creature in population:\n",
    "        N_stations, N_users = len(creature), len(abonents)\n",
    "        total_cost          = N_stations*station_cost\n",
    "        dist_matrix         = pairwise_distance(abonents, creature)\n",
    "        stations_assignment = find_nearest_station(dist_matrix)\n",
    "        stations_load       = np.ones(N_stations)\n",
    "        stations_load       = np.array([1/(sum(stations_assignment == i_st)+1) for i_st, st in enumerate(stations_load)])\n",
    "        \n",
    "        for i_ab, abonent in enumerate(abonents):\n",
    "            dist_to_base = dist_matrix[i_ab, stations_assignment[i_ab]]\n",
    "            total_cost  -= stations_load[stations_assignment[i_ab]]*abonent_profit_base/(max(0.1, dist_to_base))\n",
    "        \n",
    "        costs.append(total_cost)\n",
    "    return np.array(costs)\n",
    "\n",
    "def mutation(population, mutation_rate = 0.3):\n",
    "    N_creatures = len(population)\n",
    "    x_min, x_max = -1, 1\n",
    "    y_min, y_max = -1, 1\n",
    "    mutated_creatures = sample(range(N_creatures), int(mutation_rate*N_creatures))\n",
    "    for i_mut in mutated_creatures:\n",
    "        N_stations = len(population[i_mut])\n",
    "        mutated_stations = sample(range(N_stations), int(mutation_rate*N_stations))\n",
    "        for i_st_mut in mutated_stations:\n",
    "            population[i_mut][i_st_mut] += np.random.normal(0, 0.01, 2)\n",
    "    \n",
    "    N_new_stations = max(1, int(random.random()*mutation_rate*N_creatures))\n",
    "    for i in range(N_new_stations):\n",
    "        new_stations = np.zeros((N_new_stations,2))\n",
    "        new_stations[:,0], new_stations[:,1] = np.random.random(N_new_stations)*(x_max - x_min), np.random.random(N_new_stations)*(y_max - y_min)\n",
    "        population.append(new_stations)\n",
    "    return population\n",
    "\n",
    "def children_creation(parent1, parent2):\n",
    "    # whoisbatya\n",
    "    batya = random.random() > 0.5\n",
    "    if batya:\n",
    "        child = np.concatenate((parent1[::2], parent2[1::2]))\n",
    "    else:\n",
    "        child = np.concatenate((parent1[1::2], parent2[::2]))\n",
    "    return np.array(child)\n",
    "\n",
    "def breed(population):\n",
    "    new_population = deepcopy(population)\n",
    "    random.shuffle(new_population)\n",
    "    N_creatures = len(population)\n",
    "    for i in range(N_creatures//2):\n",
    "        children = children_creation(population[i], population[i+1])\n",
    "        new_population.append(children)\n",
    "    return new_population\n",
    "\n",
    "def selection(abonents, population, offsprings = 10):\n",
    "    scores = evaluate_generation(abonents, population)\n",
    "    best = np.array(scores).argsort()[:offsprings].tolist()\n",
    "    return [population[i_b] for i_b in best], population[best[0]] \n",
    "\n",
    "\n",
    "def let_eat_bee(N_creatures, N_generations, N_obj = 10, N_abon_per_cluster = 10):\n",
    "    abonents = generate_problem(N_obj, N_abon_per_cluster)\n",
    "    \n",
    "    costs_evolution = np.zeros((N_generations, N_creatures))\n",
    "    population = random_solution(abonents, N_creatures)\n",
    "    best_creatures = []\n",
    "    for generation in range(N_generations):\n",
    "        population                = mutation(population)\n",
    "        population                = breed(population)\n",
    "        population, best_creature = selection(abonents, population, N_creatures)\n",
    "        best_creatures.append(best_creature)\n",
    "        \n",
    "        costs_evolution[generation, :] = evaluate_generation(abonents, population)\n",
    "        \n",
    "        # Plotting\n",
    "        x_min, x_max = 0, 1\n",
    "        y_min, y_max = 0,1\n",
    "        cost_min  = [np.min(costs_evolution[i])  for i in range(generation)]\n",
    "        cost_max  = [np.max(costs_evolution[i])  for i in range(generation)]\n",
    "        cost_mean = [np.mean(costs_evolution[i]) for i in range(generation)]\n",
    "\n",
    "        fig = make_subplots(rows=1, cols=2, subplot_titles=(\"Topology of the best solution\", \"Cost function\"))\n",
    "        fig.update_xaxes(title_text=\"x\", range = [x_min,x_max],  row=1, col=1)\n",
    "        fig.update_yaxes(title_text=\"y\", range = [y_min,y_max], row=1, col=1)\n",
    "        fig.update_yaxes(title_text=\"Total cost\", row=1, col=2)\n",
    "        fig.update_xaxes(title_text=\"Generation\", row=1, col=2)\n",
    "    \n",
    "        fig.add_trace(\n",
    "            go.Scatter(x=abonents[:, 0], y=abonents[:, 1], mode='markers', name='abonents',  marker=dict(size=5)),\n",
    "            row=1, col=1\n",
    "        )\n",
    "\n",
    "        fig.add_trace(\n",
    "            go.Scatter(x=best_creatures[generation][:, 0], y=best_creatures[generation][:, 1], mode='markers', name='stations', marker=dict(size=15)),\n",
    "            row=1, col=1\n",
    "        )\n",
    "\n",
    "        fig.add_trace(\n",
    "            go.Scatter(x = list(range(generation)), y = cost_min, name='best'),\n",
    "            row=1, col=2\n",
    "        )\n",
    "\n",
    "        fig.add_trace(\n",
    "            go.Scatter(x = list(range(generation)), y = cost_max, name='worst'),\n",
    "            row=1, col=2\n",
    "        )\n",
    "\n",
    "        fig.add_trace(\n",
    "            go.Scatter(x = list(range(generation)), y = cost_mean, name='mean'),\n",
    "            row=1, col=2\n",
    "        )\n",
    "\n",
    "        clear_output(wait=True)\n",
    "        fig.show()\n",
    "        \n",
    "    fig.write_html(\"test.html\")    \n",
    "    return costs_evolution, abonents, best_creatures\n",
    "\n",
    "\n",
    "costs_evolution, abonents, best_creatures = let_eat_bee(200, 200)"
   ]
  },
  {
   "cell_type": "markdown",
   "metadata": {},
   "source": [
    "Для демонстрации работы покажите запуск на 200 особях в течение 200 поколений\n",
    "\n",
    "---\n",
    "\n",
    "#### Предлагемые изменения\n",
    "\n",
    "* 1\n",
    "* 2\n",
    "\n",
    "#### Было\n",
    "![картинка запуска дефолтной работы алгоритма](./was.png)\n",
    "#### Стало\n",
    "![картинка запуска работы предложенного алгоритма на тех же abonents]()\n",
    "\n",
    "\n",
    "Обратите внимание, что, изменяя стоиомость постройки станций и дефолтную прибыль от абонента можно прийти к странным экстремальным решениям (например, у каждого абонента по базовой станции). Поэтому фокусируйтесь больше на левую часть картинки и на ощущение того, что предложенное решение - норм."
   ]
  },
  {
   "cell_type": "markdown",
   "metadata": {},
   "source": [
    "## Gradient descent"
   ]
  },
  {
   "cell_type": "markdown",
   "metadata": {},
   "source": [
    "### Problem 4\n",
    "Говорят, что функция принадлежит классу $f \\in C^{k,p}_L (Q)$, если она $k$ раз непрерывно дифференцируема на $Q$, а $p$-ая производная имеет константу Липшица $L$. \n",
    "\n",
    "$$\n",
    "\\|\\nabla^p f(x) - \\nabla^p f(y)\\| \\leq L \\|x-y\\|, \\qquad \\forall x,y \\in Q\n",
    "$$\n",
    "\n",
    "Чаще всего используются $C_L^{1,1}, C_L^{2,2}$ на $\\mathbb{R}^n$. \n",
    "Заметим, что:\n",
    "* $p \\leq k$\n",
    "* Если $q \\geq k$, то $C_L^{q,p} \\subseteq C_L^{k,p}$. Чем выше порядок производной, тем сильнее ограничение (меньшее количество функций принадлежат классу)\n",
    "\n",
    "Докажите, что функция принадлежит к классу $C_L^{2,1} \\subseteq C_L^{1,1}$ тогда и только тогда, когда $\\forall x \\in \\mathbb{R}^n$:\n",
    "$$\n",
    "\\|\\nabla^2 f(x)\\| \\leq L\n",
    "$$\n",
    "\n",
    "Докажите так же, что последнее условие можно без ограничения общности переписать в виде:\n",
    "\n",
    "$$\n",
    "-L I_n \\preceq \\nabla^2 f(x) \\preceq L I_n\n",
    "$$\n",
    "\n",
    "Примечание: по умолчанию для векторов используется Евклидова норма, а для матриц - спектральная"
   ]
  },
  {
   "cell_type": "markdown",
   "metadata": {},
   "source": [
    "РЕШЕНИЕ ЗДЕСЬ"
   ]
  },
  {
   "cell_type": "markdown",
   "metadata": {},
   "source": [
    "### Problem 5\n",
    "Покажите, что с помощью следующих стратегий подбора шага в градиентному спуске:\n",
    "* Постоянный шаг $h_k = \\dfrac{1}{L}$\n",
    "* Убывающая последовательность $h_k = \\dfrac{\\alpha_k}{L}, \\quad \\alpha_k \\to 0$\n",
    "\n",
    "можно получить оценку убывания функции на итерации вида:\n",
    "\n",
    "$$\n",
    "f(x_k) - f(x_{k+1}) \\geq \\dfrac{\\omega}{L}\\|\\nabla f(x_k)\\|^2\n",
    "$$\n",
    "$\\omega > 0$ - некоторая константа, $L$ - константа Липщица градиента функции "
   ]
  },
  {
   "cell_type": "markdown",
   "metadata": {},
   "source": [
    "### Problem 6\n",
    "Рассмотрим функцию двух переменных:\n",
    "\n",
    "$$\n",
    "f(x_1, x_2) = x_1^2 + k x_2^2,\n",
    "$$\n",
    "\n",
    "где $k$ - некоторый параметр"
   ]
  },
  {
   "cell_type": "code",
   "execution_count": 5,
   "metadata": {},
   "outputs": [],
   "source": [
    "def f_6(x, *f_params):\n",
    "    if len(f_params) == 0:\n",
    "        k = 2\n",
    "    else:\n",
    "        k = f_params\n",
    "    x_1, x_2 = x\n",
    "    return x_1**2 + k*x_2**2\n",
    "\n",
    "def df_6(x, *f_params):\n",
    "    if len(f_params) == 0:\n",
    "        k = 2\n",
    "    else:\n",
    "        k = f_params\n",
    "    return np.array([2*x[0], 2*k*x[1]])"
   ]
  },
  {
   "cell_type": "code",
   "execution_count": 6,
   "metadata": {},
   "outputs": [],
   "source": [
    "%matplotlib inline\n",
    "from mpl_toolkits.mplot3d import Axes3D\n",
    "from matplotlib import cm\n",
    "from matplotlib.ticker import LinearLocator, FormatStrFormatter\n",
    "\n",
    "def plot_3d_function(x1, x2, f, title, *f_params, minima = None, iterations = None):\n",
    "    '''\n",
    "    '''\n",
    "    low_lim_1 = x1.min()\n",
    "    low_lim_2 = x2.min()\n",
    "    up_lim_1  = x1.max()\n",
    "    up_lim_2  = x2.max()\n",
    "\n",
    "    X1,X2 = np.meshgrid(x1, x2) # grid of point\n",
    "    Z = f((X1, X2), *f_params) # evaluation of the function on the grid\n",
    "    \n",
    "    # set up a figure twice as wide as it is tall\n",
    "    fig = plt.figure(figsize=(16,7))\n",
    "    fig.suptitle(title)\n",
    "\n",
    "    #===============\n",
    "    #  First subplot\n",
    "    #===============\n",
    "    # set up the axes for the first plot\n",
    "    ax = fig.add_subplot(1, 2, 1, projection='3d')\n",
    "\n",
    "    # plot a 3D surface like in the example mplot3d/surface3d_demo\n",
    "    surf = ax.plot_surface(X1, X2, Z, rstride=1, cstride=1, \n",
    "                          cmap=cm.RdBu,linewidth=0, antialiased=False)\n",
    "\n",
    "    ax.zaxis.set_major_locator(LinearLocator(10))\n",
    "    ax.zaxis.set_major_formatter(FormatStrFormatter('%.02f'))\n",
    "    if minima is not None:\n",
    "        minima_ = np.array(minima).reshape(-1, 1)\n",
    "        ax.plot(*minima_, f(minima_), 'r*', markersize=10)\n",
    "    \n",
    "    \n",
    "\n",
    "    #===============\n",
    "    # Second subplot\n",
    "    #===============\n",
    "    # set up the axes for the second plot\n",
    "    ax = fig.add_subplot(1, 2, 2)\n",
    "\n",
    "    # plot a 3D wireframe like in the example mplot3d/wire3d_demo\n",
    "    im = ax.imshow(Z,cmap=plt.cm.RdBu,  extent=[low_lim_1, up_lim_1, low_lim_2, up_lim_2])\n",
    "    cset = ax.contour(x1, x2,Z,linewidths=2,cmap=plt.cm.Set2)\n",
    "    ax.clabel(cset,inline=True,fmt='%1.1f',fontsize=10)\n",
    "    fig.colorbar(im)\n",
    "    ax.set_xlabel(f'$x_1$')\n",
    "    ax.set_ylabel(f'$x_2$')\n",
    "    \n",
    "    if minima is not None:\n",
    "        minima_ = np.array(minima).reshape(-1, 1)\n",
    "        ax.plot(*minima_, 'r*', markersize=10)\n",
    "    \n",
    "    if iterations is not None:\n",
    "        for point in iterations:\n",
    "            ax.plot(*point, 'go', markersize=3)\n",
    "        iterations = np.array(iterations).T\n",
    "        ax.quiver(iterations[0,:-1], iterations[1,:-1], iterations[0,1:]-iterations[0,:-1], iterations[1,1:]-iterations[1,:-1], scale_units='xy', angles='xy', scale=1, color='blue')\n",
    "\n",
    "    plt.show()"
   ]
  },
  {
   "cell_type": "code",
   "execution_count": 7,
   "metadata": {},
   "outputs": [
    {
     "data": {
      "image/png": "[encoded data removed]",
      "text/plain": [
       "<Figure size 1152x504 with 3 Axes>"
      ]
     },
     "metadata": {
      "needs_background": "light"
     },
     "output_type": "display_data"
    }
   ],
   "source": [
    "up_lim  = 4\n",
    "low_lim = -up_lim\n",
    "x1 = np.arange(low_lim, up_lim, 0.1)\n",
    "x2 = np.arange(low_lim, up_lim, 0.1)\n",
    "k=0.5\n",
    "title = f'$f(x_1, x_2) = x_1^2 + k x_2^2, k = {k}$'\n",
    "\n",
    "plot_3d_function(x1, x2, f_6, title, k, minima=[0,0])"
   ]
  },
  {
   "cell_type": "markdown",
   "metadata": {},
   "source": [
    "Для наглядности можете пользоваться кодом отрисовки окружающих картинок"
   ]
  },
  {
   "cell_type": "code",
   "execution_count": 8,
   "metadata": {},
   "outputs": [
    {
     "name": "stdout",
     "output_type": "stream",
     "text": [
      "Finished with 20 iterations\n"
     ]
    },
    {
     "data": {
      "image/png": "[encoded data removed]",
      "text/plain": [
       "<Figure size 1152x504 with 3 Axes>"
      ]
     },
     "metadata": {
      "needs_background": "light"
     },
     "output_type": "display_data"
    }
   ],
   "source": [
    "from scipy.optimize import minimize_scalar\n",
    "\n",
    "def steepest_descent(x_0, f, df, df_eps = 1e-2, max_iter = 1000):\n",
    "    iterations = []\n",
    "    x = np.array(x_0)\n",
    "    iterations.append(x)\n",
    "    while np.linalg.norm(df(x)) > df_eps and len(iterations) <= max_iter:\n",
    "        res = minimize_scalar(lambda alpha: f(x - alpha * df(x)))\n",
    "        alpha_opt = res.x\n",
    "        x = x - alpha_opt * df(x)\n",
    "        iterations.append(x)\n",
    "    print(f'Finished with {len(iterations)} iterations')\n",
    "    return iterations\n",
    "\n",
    "x_0 = [3.7,1]\n",
    "iterations = steepest_descent(x_0, f_6, df_6, df_eps = 1e-9)\n",
    "k = 0.1\n",
    "title = f'$f(x_1, x_2) = x_1^2 + k x_2^2, k = {k}$'\n",
    "\n",
    "plot_3d_function(x1, x2, f_6, title, k, minima=[0,0], iterations = iterations)"
   ]
  },
  {
   "cell_type": "markdown",
   "metadata": {},
   "source": [
    "Постройте график количества итераций, необходимых для сходимости алгоритма наискорейшего спуска (до выполнения условия $\\|\\nabla f(x_k)\\| \\leq \\varepsilon = 10^{-7}$) в зависимости от значения $k$. Рассмотрите интервал $k \\in [10^{-3}; 10^3]$ (будет удобно использовать функцию `ks = np.logspace(-3,3)`) и строить график по оси абсцисс в логарифмическом масштабе `plt.semilogx()` или `plt.loglog()` для двойного лог. масштаба.\n",
    "\n",
    "Сделайте те же графики для функции:\n",
    "\n",
    "$$\n",
    "f(x) = \\ln(1 + e^{x^\\top A x}) + \\mathbf{1}^\\top x\n",
    "$$\n",
    "\n",
    "Объясните полученную зависимость."
   ]
  }
 ],
 "metadata": {
  "kernelspec": {
   "display_name": "Python 3",
   "language": "python",
   "name": "python3"
  },
  "language_info": {
   "codemirror_mode": {
    "name": "ipython",
    "version": 3
   },
   "file_extension": ".py",
   "mimetype": "text/x-python",
   "name": "python",
   "nbconvert_exporter": "python",
   "pygments_lexer": "ipython3",
   "version": "3.7.4"
  },
  "toc": {
   "base_numbering": 1,
   "nav_menu": {},
   "number_sections": true,
   "sideBar": true,
   "skip_h1_title": false,
   "title_cell": "Table of Contents",
   "title_sidebar": "Contents",
   "toc_cell": false,
   "toc_position": {},
   "toc_section_display": true,
   "toc_window_display": false
  }
 },
 "nbformat": 4,
 "nbformat_minor": 2
}
